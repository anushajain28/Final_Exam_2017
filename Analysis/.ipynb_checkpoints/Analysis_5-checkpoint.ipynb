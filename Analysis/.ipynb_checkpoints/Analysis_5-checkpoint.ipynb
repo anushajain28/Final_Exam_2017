{
 "cells": [
  {
   "cell_type": "markdown",
   "metadata": {},
   "source": [
    "# Analyze the movie by ratings and find out the Top 10 directors"
   ]
  },
  {
   "cell_type": "code",
   "execution_count": 1,
   "metadata": {
    "collapsed": true
   },
   "outputs": [],
   "source": [
    "import pandas as pd\n",
    "import os\n",
    "import csv\n",
    "import numpy as np\n",
    "import re\n",
    "%matplotlib inline\n",
    "import matplotlib.pyplot as plt\n",
    "import matplotlib\n",
    "matplotlib.style.use('ggplot')\n",
    "from matplotlib import cm"
   ]
  },
  {
   "cell_type": "code",
   "execution_count": 2,
   "metadata": {
    "collapsed": false
   },
   "outputs": [],
   "source": [
    "current_path =os.path.expanduser('~')\n",
    "current_path =os.path.join(current_path,'Final_Exam')\n",
    "input_path = os.path.join(current_path,'Data')\n",
    "output_path = os.path.join(current_path,'Analysis')\n",
    "output_path = os.path.join(output_path,'Analysis_5')"
   ]
  },
  {
   "cell_type": "code",
   "execution_count": 3,
   "metadata": {
    "collapsed": false
   },
   "outputs": [
    {
     "data": {
      "text/html": [
       "<div>\n",
       "<table border=\"1\" class=\"dataframe\">\n",
       "  <thead>\n",
       "    <tr style=\"text-align: right;\">\n",
       "      <th></th>\n",
       "      <th>movieId</th>\n",
       "      <th>user_rating</th>\n",
       "      <th>title</th>\n",
       "      <th>genres</th>\n",
       "      <th>year</th>\n",
       "      <th>critics_rating</th>\n",
       "      <th>rtAllCriticsNumReviews</th>\n",
       "    </tr>\n",
       "  </thead>\n",
       "  <tbody>\n",
       "    <tr>\n",
       "      <th>0</th>\n",
       "      <td>6987</td>\n",
       "      <td>3.705106</td>\n",
       "      <td>Cabinet of Dr. Caligari, The (Cabinet des Dr. ...</td>\n",
       "      <td>Crime|Fantasy|Horror</td>\n",
       "      <td>1920</td>\n",
       "      <td>4.45</td>\n",
       "      <td>34</td>\n",
       "    </tr>\n",
       "    <tr>\n",
       "      <th>1</th>\n",
       "      <td>3310</td>\n",
       "      <td>3.659605</td>\n",
       "      <td>Kid, The (1921)</td>\n",
       "      <td>Comedy|Drama</td>\n",
       "      <td>1921</td>\n",
       "      <td>3.45</td>\n",
       "      <td>41</td>\n",
       "    </tr>\n",
       "    <tr>\n",
       "      <th>2</th>\n",
       "      <td>1348</td>\n",
       "      <td>3.807852</td>\n",
       "      <td>Nosferatu (Nosferatu, eine Symphonie des Graue...</td>\n",
       "      <td>Horror</td>\n",
       "      <td>1922</td>\n",
       "      <td>4.45</td>\n",
       "      <td>47</td>\n",
       "    </tr>\n",
       "    <tr>\n",
       "      <th>3</th>\n",
       "      <td>6986</td>\n",
       "      <td>3.481502</td>\n",
       "      <td>Ben-Hur: A Tale of the Christ (1925)</td>\n",
       "      <td>Adventure|Drama</td>\n",
       "      <td>1925</td>\n",
       "      <td>3.90</td>\n",
       "      <td>33</td>\n",
       "    </tr>\n",
       "    <tr>\n",
       "      <th>4</th>\n",
       "      <td>3022</td>\n",
       "      <td>3.973789</td>\n",
       "      <td>General, The (1926)</td>\n",
       "      <td>Comedy|War</td>\n",
       "      <td>1926</td>\n",
       "      <td>4.45</td>\n",
       "      <td>38</td>\n",
       "    </tr>\n",
       "  </tbody>\n",
       "</table>\n",
       "</div>"
      ],
      "text/plain": [
       "   movieId  user_rating                                              title  \\\n",
       "0     6987     3.705106  Cabinet of Dr. Caligari, The (Cabinet des Dr. ...   \n",
       "1     3310     3.659605                                    Kid, The (1921)   \n",
       "2     1348     3.807852  Nosferatu (Nosferatu, eine Symphonie des Graue...   \n",
       "3     6986     3.481502               Ben-Hur: A Tale of the Christ (1925)   \n",
       "4     3022     3.973789                                General, The (1926)   \n",
       "\n",
       "                 genres  year  critics_rating  rtAllCriticsNumReviews  \n",
       "0  Crime|Fantasy|Horror  1920            4.45                      34  \n",
       "1          Comedy|Drama  1921            3.45                      41  \n",
       "2                Horror  1922            4.45                      47  \n",
       "3       Adventure|Drama  1925            3.90                      33  \n",
       "4            Comedy|War  1926            4.45                      38  "
      ]
     },
     "execution_count": 3,
     "metadata": {},
     "output_type": "execute_result"
    }
   ],
   "source": [
    "df_movies = pd.read_csv( input_path + '\\\\Weighted_Mean_Rating.csv', encoding='ISO-8859-1')         #read movies csv file into a dataframe\n",
    "df_movies.head()"
   ]
  },
  {
   "cell_type": "code",
   "execution_count": 4,
   "metadata": {
    "collapsed": false
   },
   "outputs": [
    {
     "data": {
      "text/html": [
       "<div>\n",
       "<table border=\"1\" class=\"dataframe\">\n",
       "  <thead>\n",
       "    <tr style=\"text-align: right;\">\n",
       "      <th></th>\n",
       "      <th>movieId</th>\n",
       "      <th>user_rating</th>\n",
       "    </tr>\n",
       "  </thead>\n",
       "  <tbody>\n",
       "    <tr>\n",
       "      <th>0</th>\n",
       "      <td>6987</td>\n",
       "      <td>3.705106</td>\n",
       "    </tr>\n",
       "    <tr>\n",
       "      <th>1</th>\n",
       "      <td>3310</td>\n",
       "      <td>3.659605</td>\n",
       "    </tr>\n",
       "    <tr>\n",
       "      <th>2</th>\n",
       "      <td>1348</td>\n",
       "      <td>3.807852</td>\n",
       "    </tr>\n",
       "    <tr>\n",
       "      <th>3</th>\n",
       "      <td>6986</td>\n",
       "      <td>3.481502</td>\n",
       "    </tr>\n",
       "    <tr>\n",
       "      <th>4</th>\n",
       "      <td>3022</td>\n",
       "      <td>3.973789</td>\n",
       "    </tr>\n",
       "  </tbody>\n",
       "</table>\n",
       "</div>"
      ],
      "text/plain": [
       "   movieId  user_rating\n",
       "0     6987     3.705106\n",
       "1     3310     3.659605\n",
       "2     1348     3.807852\n",
       "3     6986     3.481502\n",
       "4     3022     3.973789"
      ]
     },
     "execution_count": 4,
     "metadata": {},
     "output_type": "execute_result"
    }
   ],
   "source": [
    "df_movies = df_movies.drop(['year','critics_rating','title','genres','rtAllCriticsNumReviews'] , axis = 1)\n",
    "df_movies.head()"
   ]
  },
  {
   "cell_type": "code",
   "execution_count": 5,
   "metadata": {
    "collapsed": false
   },
   "outputs": [
    {
     "data": {
      "text/html": [
       "<div>\n",
       "<table border=\"1\" class=\"dataframe\">\n",
       "  <thead>\n",
       "    <tr style=\"text-align: right;\">\n",
       "      <th></th>\n",
       "      <th>movieId</th>\n",
       "      <th>directorID</th>\n",
       "      <th>directorName</th>\n",
       "    </tr>\n",
       "  </thead>\n",
       "  <tbody>\n",
       "    <tr>\n",
       "      <th>0</th>\n",
       "      <td>1</td>\n",
       "      <td>john_lasseter</td>\n",
       "      <td>John Lasseter</td>\n",
       "    </tr>\n",
       "    <tr>\n",
       "      <th>1</th>\n",
       "      <td>2</td>\n",
       "      <td>joe_johnston</td>\n",
       "      <td>Joe Johnston</td>\n",
       "    </tr>\n",
       "    <tr>\n",
       "      <th>2</th>\n",
       "      <td>3</td>\n",
       "      <td>donald_petrie</td>\n",
       "      <td>Donald Petrie</td>\n",
       "    </tr>\n",
       "    <tr>\n",
       "      <th>3</th>\n",
       "      <td>4</td>\n",
       "      <td>forest_whitaker</td>\n",
       "      <td>Forest Whitaker</td>\n",
       "    </tr>\n",
       "    <tr>\n",
       "      <th>4</th>\n",
       "      <td>5</td>\n",
       "      <td>charles_shyer</td>\n",
       "      <td>Charles Shyer</td>\n",
       "    </tr>\n",
       "  </tbody>\n",
       "</table>\n",
       "</div>"
      ],
      "text/plain": [
       "   movieId       directorID     directorName\n",
       "0        1    john_lasseter    John Lasseter\n",
       "1        2     joe_johnston     Joe Johnston\n",
       "2        3    donald_petrie    Donald Petrie\n",
       "3        4  forest_whitaker  Forest Whitaker\n",
       "4        5    charles_shyer    Charles Shyer"
      ]
     },
     "execution_count": 5,
     "metadata": {},
     "output_type": "execute_result"
    }
   ],
   "source": [
    "df_directors = pd.read_csv( input_path + '\\\\movie_directors.csv', encoding='ISO-8859-1')\n",
    "df_directors.head()"
   ]
  },
  {
   "cell_type": "code",
   "execution_count": 6,
   "metadata": {
    "collapsed": false
   },
   "outputs": [
    {
     "data": {
      "text/html": [
       "<div>\n",
       "<table border=\"1\" class=\"dataframe\">\n",
       "  <thead>\n",
       "    <tr style=\"text-align: right;\">\n",
       "      <th></th>\n",
       "      <th>movieId</th>\n",
       "      <th>location1</th>\n",
       "      <th>location2</th>\n",
       "      <th>location3</th>\n",
       "      <th>location4</th>\n",
       "    </tr>\n",
       "  </thead>\n",
       "  <tbody>\n",
       "    <tr>\n",
       "      <th>0</th>\n",
       "      <td>1</td>\n",
       "      <td>NaN</td>\n",
       "      <td>NaN</td>\n",
       "      <td>NaN</td>\n",
       "      <td>NaN</td>\n",
       "    </tr>\n",
       "    <tr>\n",
       "      <th>1</th>\n",
       "      <td>2</td>\n",
       "      <td>Canada</td>\n",
       "      <td>British Columbia</td>\n",
       "      <td>NaN</td>\n",
       "      <td>NaN</td>\n",
       "    </tr>\n",
       "    <tr>\n",
       "      <th>2</th>\n",
       "      <td>2</td>\n",
       "      <td>Canada</td>\n",
       "      <td>British Columbia</td>\n",
       "      <td>Delta</td>\n",
       "      <td>NaN</td>\n",
       "    </tr>\n",
       "    <tr>\n",
       "      <th>3</th>\n",
       "      <td>2</td>\n",
       "      <td>Canada</td>\n",
       "      <td>British Columbia</td>\n",
       "      <td>Delta</td>\n",
       "      <td>Tsawwassen</td>\n",
       "    </tr>\n",
       "    <tr>\n",
       "      <th>4</th>\n",
       "      <td>2</td>\n",
       "      <td>Canada</td>\n",
       "      <td>British Columbia</td>\n",
       "      <td>Maple Ridge</td>\n",
       "      <td>NaN</td>\n",
       "    </tr>\n",
       "  </tbody>\n",
       "</table>\n",
       "</div>"
      ],
      "text/plain": [
       "   movieId location1         location2    location3   location4\n",
       "0        1       NaN               NaN          NaN         NaN\n",
       "1        2    Canada  British Columbia          NaN         NaN\n",
       "2        2    Canada  British Columbia        Delta         NaN\n",
       "3        2    Canada  British Columbia        Delta  Tsawwassen\n",
       "4        2    Canada  British Columbia  Maple Ridge         NaN"
      ]
     },
     "execution_count": 6,
     "metadata": {},
     "output_type": "execute_result"
    }
   ],
   "source": [
    "df_locations = pd.read_csv( input_path + '\\\\movie_locations.csv', encoding='ISO-8859-1')\n",
    "df_locations.head()"
   ]
  },
  {
   "cell_type": "code",
   "execution_count": 7,
   "metadata": {
    "collapsed": false
   },
   "outputs": [
    {
     "data": {
      "text/html": [
       "<div>\n",
       "<table border=\"1\" class=\"dataframe\">\n",
       "  <thead>\n",
       "    <tr style=\"text-align: right;\">\n",
       "      <th></th>\n",
       "      <th>movieId</th>\n",
       "      <th>directorID</th>\n",
       "      <th>directorName</th>\n",
       "      <th>user_rating</th>\n",
       "    </tr>\n",
       "  </thead>\n",
       "  <tbody>\n",
       "    <tr>\n",
       "      <th>0</th>\n",
       "      <td>1</td>\n",
       "      <td>john_lasseter</td>\n",
       "      <td>John Lasseter</td>\n",
       "      <td>3.913390</td>\n",
       "    </tr>\n",
       "    <tr>\n",
       "      <th>1</th>\n",
       "      <td>3</td>\n",
       "      <td>donald_petrie</td>\n",
       "      <td>Donald Petrie</td>\n",
       "      <td>3.150366</td>\n",
       "    </tr>\n",
       "    <tr>\n",
       "      <th>2</th>\n",
       "      <td>6</td>\n",
       "      <td>michael_mann</td>\n",
       "      <td>Michael Mann</td>\n",
       "      <td>3.820550</td>\n",
       "    </tr>\n",
       "    <tr>\n",
       "      <th>3</th>\n",
       "      <td>7</td>\n",
       "      <td>billy_wilder</td>\n",
       "      <td>Billy Wilder</td>\n",
       "      <td>3.357819</td>\n",
       "    </tr>\n",
       "    <tr>\n",
       "      <th>4</th>\n",
       "      <td>9</td>\n",
       "      <td>peter_hyams</td>\n",
       "      <td>Peter Hyams</td>\n",
       "      <td>3.019305</td>\n",
       "    </tr>\n",
       "  </tbody>\n",
       "</table>\n",
       "</div>"
      ],
      "text/plain": [
       "   movieId     directorID   directorName  user_rating\n",
       "0        1  john_lasseter  John Lasseter     3.913390\n",
       "1        3  donald_petrie  Donald Petrie     3.150366\n",
       "2        6   michael_mann   Michael Mann     3.820550\n",
       "3        7   billy_wilder   Billy Wilder     3.357819\n",
       "4        9    peter_hyams    Peter Hyams     3.019305"
      ]
     },
     "execution_count": 7,
     "metadata": {},
     "output_type": "execute_result"
    }
   ],
   "source": [
    "df_movie_directors = pd.merge(df_directors, df_movies, on = 'movieId')\n",
    "df_movie_directors.head()"
   ]
  },
  {
   "cell_type": "code",
   "execution_count": 8,
   "metadata": {
    "collapsed": false
   },
   "outputs": [],
   "source": [
    "df_top_directors = df_movie_directors.groupby('directorName')['user_rating'].mean()\n",
    "#df_top_directors.head()"
   ]
  },
  {
   "cell_type": "code",
   "execution_count": 9,
   "metadata": {
    "collapsed": false
   },
   "outputs": [],
   "source": [
    "df_top_directors = pd.DataFrame(df_top_directors)\n",
    "df_top_directors = df_top_directors.reset_index()\n",
    "#df_top_directors.head()"
   ]
  },
  {
   "cell_type": "code",
   "execution_count": 10,
   "metadata": {
    "collapsed": false
   },
   "outputs": [
    {
     "data": {
      "text/html": [
       "<div>\n",
       "<table border=\"1\" class=\"dataframe\">\n",
       "  <thead>\n",
       "    <tr style=\"text-align: right;\">\n",
       "      <th></th>\n",
       "      <th>directorName</th>\n",
       "      <th>user_rating</th>\n",
       "    </tr>\n",
       "  </thead>\n",
       "  <tbody>\n",
       "    <tr>\n",
       "      <th>129</th>\n",
       "      <td>Carol Reed</td>\n",
       "      <td>4.167247</td>\n",
       "    </tr>\n",
       "    <tr>\n",
       "      <th>387</th>\n",
       "      <td>Ian MacNaughton</td>\n",
       "      <td>4.158621</td>\n",
       "    </tr>\n",
       "    <tr>\n",
       "      <th>856</th>\n",
       "      <td>Robert Mulligan</td>\n",
       "      <td>4.154372</td>\n",
       "    </tr>\n",
       "    <tr>\n",
       "      <th>865</th>\n",
       "      <td>Roberto Benigni</td>\n",
       "      <td>4.147893</td>\n",
       "    </tr>\n",
       "    <tr>\n",
       "      <th>289</th>\n",
       "      <td>Florian Henckel-Donnersmarck</td>\n",
       "      <td>4.146238</td>\n",
       "    </tr>\n",
       "    <tr>\n",
       "      <th>1019</th>\n",
       "      <td>Tony Kaye</td>\n",
       "      <td>4.129829</td>\n",
       "    </tr>\n",
       "    <tr>\n",
       "      <th>540</th>\n",
       "      <td>Joseph L. Mankiewicz</td>\n",
       "      <td>4.103567</td>\n",
       "    </tr>\n",
       "    <tr>\n",
       "      <th>746</th>\n",
       "      <td>Orson Welles</td>\n",
       "      <td>4.103157</td>\n",
       "    </tr>\n",
       "    <tr>\n",
       "      <th>332</th>\n",
       "      <td>George Roy Hill</td>\n",
       "      <td>4.082407</td>\n",
       "    </tr>\n",
       "    <tr>\n",
       "      <th>966</th>\n",
       "      <td>Stuart Rosenberg</td>\n",
       "      <td>4.068641</td>\n",
       "    </tr>\n",
       "  </tbody>\n",
       "</table>\n",
       "</div>"
      ],
      "text/plain": [
       "                      directorName  user_rating\n",
       "129                     Carol Reed     4.167247\n",
       "387                Ian MacNaughton     4.158621\n",
       "856                Robert Mulligan     4.154372\n",
       "865                Roberto Benigni     4.147893\n",
       "289   Florian Henckel-Donnersmarck     4.146238\n",
       "1019                     Tony Kaye     4.129829\n",
       "540           Joseph L. Mankiewicz     4.103567\n",
       "746                   Orson Welles     4.103157\n",
       "332                George Roy Hill     4.082407\n",
       "966               Stuart Rosenberg     4.068641"
      ]
     },
     "execution_count": 10,
     "metadata": {},
     "output_type": "execute_result"
    }
   ],
   "source": [
    "df_top_directors = df_top_directors.sort_values(by='user_rating', ascending = False)\n",
    "df_top_directors = df_top_directors[:10]\n",
    "df_top_directors"
   ]
  },
  {
   "cell_type": "code",
   "execution_count": 29,
   "metadata": {
    "collapsed": false
   },
   "outputs": [
    {
     "data": {
      "image/png": "[encoded data removed]",
      "text/plain": [
       "<matplotlib.figure.Figure at 0x15af42ed748>"
      ]
     },
     "metadata": {},
     "output_type": "display_data"
    }
   ],
   "source": [
    "ax = df_top_directors.plot.bar(x='directorName', y=['user_rating'] , title='Top 10 directors' , rot =75 , color = '#ff6600', figsize=(10,8))\n",
    "ax.set_xlabel('Directors')\n",
    "ax.set_ylabel('Rating')\n",
    "ax.set_ylim(4,4.2)\n",
    "plt.savefig(output_path + '\\\\top10directors.jpeg')\n",
    "plt.legend(loc=10, bbox_to_anchor=(1.3, .9), ncol=1)\n",
    "plt.show()"
   ]
  },
  {
   "cell_type": "markdown",
   "metadata": {},
   "source": [
    "# For Top 10 directors , find out the favourite shooting locations"
   ]
  },
  {
   "cell_type": "code",
   "execution_count": 12,
   "metadata": {
    "collapsed": false
   },
   "outputs": [
    {
     "data": {
      "text/html": [
       "<div>\n",
       "<table border=\"1\" class=\"dataframe\">\n",
       "  <thead>\n",
       "    <tr style=\"text-align: right;\">\n",
       "      <th></th>\n",
       "      <th>movieId</th>\n",
       "      <th>directorID</th>\n",
       "      <th>directorName</th>\n",
       "      <th>user_rating</th>\n",
       "      <th>location1</th>\n",
       "      <th>location2</th>\n",
       "      <th>location3</th>\n",
       "      <th>location4</th>\n",
       "    </tr>\n",
       "  </thead>\n",
       "  <tbody>\n",
       "    <tr>\n",
       "      <th>0</th>\n",
       "      <td>1</td>\n",
       "      <td>john_lasseter</td>\n",
       "      <td>John Lasseter</td>\n",
       "      <td>3.913390</td>\n",
       "      <td>NaN</td>\n",
       "      <td>NaN</td>\n",
       "      <td>NaN</td>\n",
       "      <td>NaN</td>\n",
       "    </tr>\n",
       "    <tr>\n",
       "      <th>1</th>\n",
       "      <td>3</td>\n",
       "      <td>donald_petrie</td>\n",
       "      <td>Donald Petrie</td>\n",
       "      <td>3.150366</td>\n",
       "      <td>USA</td>\n",
       "      <td>California</td>\n",
       "      <td>Burbank</td>\n",
       "      <td>Stage 16, Warner Brothers Burbank Studios - 40...</td>\n",
       "    </tr>\n",
       "    <tr>\n",
       "      <th>2</th>\n",
       "      <td>3</td>\n",
       "      <td>donald_petrie</td>\n",
       "      <td>Donald Petrie</td>\n",
       "      <td>3.150366</td>\n",
       "      <td>USA</td>\n",
       "      <td>Minnesota</td>\n",
       "      <td>Center City</td>\n",
       "      <td>NaN</td>\n",
       "    </tr>\n",
       "    <tr>\n",
       "      <th>3</th>\n",
       "      <td>3</td>\n",
       "      <td>donald_petrie</td>\n",
       "      <td>Donald Petrie</td>\n",
       "      <td>3.150366</td>\n",
       "      <td>USA</td>\n",
       "      <td>Minnesota</td>\n",
       "      <td>Chanhassen</td>\n",
       "      <td>Paisley Park</td>\n",
       "    </tr>\n",
       "    <tr>\n",
       "      <th>4</th>\n",
       "      <td>3</td>\n",
       "      <td>donald_petrie</td>\n",
       "      <td>Donald Petrie</td>\n",
       "      <td>3.150366</td>\n",
       "      <td>USA</td>\n",
       "      <td>Minnesota</td>\n",
       "      <td>Chanhassen</td>\n",
       "      <td>Paisley Park Studios - 7801 Audubon Road</td>\n",
       "    </tr>\n",
       "  </tbody>\n",
       "</table>\n",
       "</div>"
      ],
      "text/plain": [
       "   movieId     directorID   directorName  user_rating location1   location2  \\\n",
       "0        1  john_lasseter  John Lasseter     3.913390       NaN         NaN   \n",
       "1        3  donald_petrie  Donald Petrie     3.150366       USA  California   \n",
       "2        3  donald_petrie  Donald Petrie     3.150366       USA   Minnesota   \n",
       "3        3  donald_petrie  Donald Petrie     3.150366       USA   Minnesota   \n",
       "4        3  donald_petrie  Donald Petrie     3.150366       USA   Minnesota   \n",
       "\n",
       "     location3                                          location4  \n",
       "0          NaN                                                NaN  \n",
       "1      Burbank  Stage 16, Warner Brothers Burbank Studios - 40...  \n",
       "2  Center City                                                NaN  \n",
       "3   Chanhassen                                       Paisley Park  \n",
       "4   Chanhassen           Paisley Park Studios - 7801 Audubon Road  "
      ]
     },
     "execution_count": 12,
     "metadata": {},
     "output_type": "execute_result"
    }
   ],
   "source": [
    "df_director_location = pd.merge(df_movie_directors,df_locations, on='movieId')\n",
    "df_director_location.head()"
   ]
  },
  {
   "cell_type": "code",
   "execution_count": 13,
   "metadata": {
    "collapsed": false
   },
   "outputs": [
    {
     "data": {
      "text/html": [
       "<div>\n",
       "<table border=\"1\" class=\"dataframe\">\n",
       "  <thead>\n",
       "    <tr style=\"text-align: right;\">\n",
       "      <th></th>\n",
       "      <th>movieId</th>\n",
       "      <th>directorName</th>\n",
       "      <th>user_rating</th>\n",
       "      <th>location1</th>\n",
       "      <th>location2</th>\n",
       "    </tr>\n",
       "  </thead>\n",
       "  <tbody>\n",
       "    <tr>\n",
       "      <th>0</th>\n",
       "      <td>1</td>\n",
       "      <td>John Lasseter</td>\n",
       "      <td>3.913390</td>\n",
       "      <td>NaN</td>\n",
       "      <td>NaN</td>\n",
       "    </tr>\n",
       "    <tr>\n",
       "      <th>1</th>\n",
       "      <td>3</td>\n",
       "      <td>Donald Petrie</td>\n",
       "      <td>3.150366</td>\n",
       "      <td>USA</td>\n",
       "      <td>California</td>\n",
       "    </tr>\n",
       "    <tr>\n",
       "      <th>2</th>\n",
       "      <td>3</td>\n",
       "      <td>Donald Petrie</td>\n",
       "      <td>3.150366</td>\n",
       "      <td>USA</td>\n",
       "      <td>Minnesota</td>\n",
       "    </tr>\n",
       "    <tr>\n",
       "      <th>3</th>\n",
       "      <td>3</td>\n",
       "      <td>Donald Petrie</td>\n",
       "      <td>3.150366</td>\n",
       "      <td>USA</td>\n",
       "      <td>Minnesota</td>\n",
       "    </tr>\n",
       "    <tr>\n",
       "      <th>4</th>\n",
       "      <td>3</td>\n",
       "      <td>Donald Petrie</td>\n",
       "      <td>3.150366</td>\n",
       "      <td>USA</td>\n",
       "      <td>Minnesota</td>\n",
       "    </tr>\n",
       "  </tbody>\n",
       "</table>\n",
       "</div>"
      ],
      "text/plain": [
       "   movieId   directorName  user_rating location1   location2\n",
       "0        1  John Lasseter     3.913390       NaN         NaN\n",
       "1        3  Donald Petrie     3.150366       USA  California\n",
       "2        3  Donald Petrie     3.150366       USA   Minnesota\n",
       "3        3  Donald Petrie     3.150366       USA   Minnesota\n",
       "4        3  Donald Petrie     3.150366       USA   Minnesota"
      ]
     },
     "execution_count": 13,
     "metadata": {},
     "output_type": "execute_result"
    }
   ],
   "source": [
    "df_director_location = df_director_location.drop(['directorID','location3','location4'], axis = 1)\n",
    "df_director_location.head()"
   ]
  },
  {
   "cell_type": "code",
   "execution_count": 14,
   "metadata": {
    "collapsed": false
   },
   "outputs": [
    {
     "data": {
      "text/html": [
       "<div>\n",
       "<table border=\"1\" class=\"dataframe\">\n",
       "  <thead>\n",
       "    <tr style=\"text-align: right;\">\n",
       "      <th></th>\n",
       "      <th>movieId</th>\n",
       "      <th>directorName</th>\n",
       "      <th>user_rating_x</th>\n",
       "      <th>location1</th>\n",
       "      <th>location2</th>\n",
       "      <th>user_rating_y</th>\n",
       "    </tr>\n",
       "  </thead>\n",
       "  <tbody>\n",
       "    <tr>\n",
       "      <th>0</th>\n",
       "      <td>923</td>\n",
       "      <td>Orson Welles</td>\n",
       "      <td>4.103157</td>\n",
       "      <td>USA</td>\n",
       "      <td>California</td>\n",
       "      <td>4.103157</td>\n",
       "    </tr>\n",
       "    <tr>\n",
       "      <th>1</th>\n",
       "      <td>923</td>\n",
       "      <td>Orson Welles</td>\n",
       "      <td>4.103157</td>\n",
       "      <td>USA</td>\n",
       "      <td>California</td>\n",
       "      <td>4.103157</td>\n",
       "    </tr>\n",
       "    <tr>\n",
       "      <th>2</th>\n",
       "      <td>923</td>\n",
       "      <td>Orson Welles</td>\n",
       "      <td>4.103157</td>\n",
       "      <td>USA</td>\n",
       "      <td>California</td>\n",
       "      <td>4.103157</td>\n",
       "    </tr>\n",
       "    <tr>\n",
       "      <th>3</th>\n",
       "      <td>923</td>\n",
       "      <td>Orson Welles</td>\n",
       "      <td>4.103157</td>\n",
       "      <td>USA</td>\n",
       "      <td>California</td>\n",
       "      <td>4.103157</td>\n",
       "    </tr>\n",
       "    <tr>\n",
       "      <th>4</th>\n",
       "      <td>923</td>\n",
       "      <td>Orson Welles</td>\n",
       "      <td>4.103157</td>\n",
       "      <td>USA</td>\n",
       "      <td>California</td>\n",
       "      <td>4.103157</td>\n",
       "    </tr>\n",
       "  </tbody>\n",
       "</table>\n",
       "</div>"
      ],
      "text/plain": [
       "   movieId  directorName  user_rating_x location1   location2  user_rating_y\n",
       "0      923  Orson Welles       4.103157       USA  California       4.103157\n",
       "1      923  Orson Welles       4.103157       USA  California       4.103157\n",
       "2      923  Orson Welles       4.103157       USA  California       4.103157\n",
       "3      923  Orson Welles       4.103157       USA  California       4.103157\n",
       "4      923  Orson Welles       4.103157       USA  California       4.103157"
      ]
     },
     "execution_count": 14,
     "metadata": {},
     "output_type": "execute_result"
    }
   ],
   "source": [
    "df_director_location = pd.merge(df_director_location, df_top_directors, on = 'directorName' )\n",
    "df_director_location.head()"
   ]
  },
  {
   "cell_type": "code",
   "execution_count": 16,
   "metadata": {
    "collapsed": false
   },
   "outputs": [],
   "source": [
    "df_director_location = df_director_location.sort_values(by='user_rating_x',ascending = False)\n",
    "df_director_location = df_director_location.drop(['user_rating_x','user_rating_y'], axis = 1)"
   ]
  },
  {
   "cell_type": "code",
   "execution_count": 18,
   "metadata": {
    "collapsed": false
   },
   "outputs": [
    {
     "data": {
      "text/html": [
       "<div>\n",
       "<table border=\"1\" class=\"dataframe\">\n",
       "  <thead>\n",
       "    <tr style=\"text-align: right;\">\n",
       "      <th></th>\n",
       "      <th></th>\n",
       "      <th></th>\n",
       "      <th>movieId</th>\n",
       "    </tr>\n",
       "    <tr>\n",
       "      <th>directorName</th>\n",
       "      <th>location1</th>\n",
       "      <th>location2</th>\n",
       "      <th></th>\n",
       "    </tr>\n",
       "  </thead>\n",
       "  <tbody>\n",
       "    <tr>\n",
       "      <th rowspan=\"2\" valign=\"top\">Carol Reed</th>\n",
       "      <th>Austria</th>\n",
       "      <th>Vienna</th>\n",
       "      <td>9</td>\n",
       "    </tr>\n",
       "    <tr>\n",
       "      <th>UK</th>\n",
       "      <th>England</th>\n",
       "      <td>2</td>\n",
       "    </tr>\n",
       "    <tr>\n",
       "      <th>Florian Henckel-Donnersmarck</th>\n",
       "      <th>Germany</th>\n",
       "      <th>Berlin</th>\n",
       "      <td>6</td>\n",
       "    </tr>\n",
       "    <tr>\n",
       "      <th rowspan=\"2\" valign=\"top\">George Roy Hill</th>\n",
       "      <th rowspan=\"2\" valign=\"top\">Mexico</th>\n",
       "      <th>Guerrero</th>\n",
       "      <td>1</td>\n",
       "    </tr>\n",
       "    <tr>\n",
       "      <th>Morelos</th>\n",
       "      <td>1</td>\n",
       "    </tr>\n",
       "  </tbody>\n",
       "</table>\n",
       "</div>"
      ],
      "text/plain": [
       "                                                  movieId\n",
       "directorName                 location1 location2         \n",
       "Carol Reed                   Austria   Vienna           9\n",
       "                             UK        England          2\n",
       "Florian Henckel-Donnersmarck Germany   Berlin           6\n",
       "George Roy Hill              Mexico    Guerrero         1\n",
       "                                       Morelos          1"
      ]
     },
     "execution_count": 18,
     "metadata": {},
     "output_type": "execute_result"
    }
   ],
   "source": [
    "df_result = df_director_location.groupby(['directorName','location1','location2']).count()\n",
    "df_result.head()"
   ]
  },
  {
   "cell_type": "code",
   "execution_count": 19,
   "metadata": {
    "collapsed": false
   },
   "outputs": [
    {
     "data": {
      "text/html": [
       "<div>\n",
       "<table border=\"1\" class=\"dataframe\">\n",
       "  <thead>\n",
       "    <tr style=\"text-align: right;\">\n",
       "      <th></th>\n",
       "      <th></th>\n",
       "      <th></th>\n",
       "      <th>movieId</th>\n",
       "    </tr>\n",
       "    <tr>\n",
       "      <th>directorName</th>\n",
       "      <th>location1</th>\n",
       "      <th>location2</th>\n",
       "      <th></th>\n",
       "    </tr>\n",
       "  </thead>\n",
       "  <tbody>\n",
       "    <tr>\n",
       "      <th rowspan=\"2\" valign=\"top\">Carol Reed</th>\n",
       "      <th>Austria</th>\n",
       "      <th>Vienna</th>\n",
       "      <td>9</td>\n",
       "    </tr>\n",
       "    <tr>\n",
       "      <th>UK</th>\n",
       "      <th>England</th>\n",
       "      <td>2</td>\n",
       "    </tr>\n",
       "    <tr>\n",
       "      <th>Florian Henckel-Donnersmarck</th>\n",
       "      <th>Germany</th>\n",
       "      <th>Berlin</th>\n",
       "      <td>6</td>\n",
       "    </tr>\n",
       "    <tr>\n",
       "      <th rowspan=\"2\" valign=\"top\">George Roy Hill</th>\n",
       "      <th rowspan=\"2\" valign=\"top\">USA</th>\n",
       "      <th>California</th>\n",
       "      <td>10</td>\n",
       "    </tr>\n",
       "    <tr>\n",
       "      <th>Colorado</th>\n",
       "      <td>7</td>\n",
       "    </tr>\n",
       "  </tbody>\n",
       "</table>\n",
       "</div>"
      ],
      "text/plain": [
       "                                                   movieId\n",
       "directorName                 location1 location2          \n",
       "Carol Reed                   Austria   Vienna            9\n",
       "                             UK        England           2\n",
       "Florian Henckel-Donnersmarck Germany   Berlin            6\n",
       "George Roy Hill              USA       California       10\n",
       "                                       Colorado          7"
      ]
     },
     "execution_count": 19,
     "metadata": {},
     "output_type": "execute_result"
    }
   ],
   "source": [
    "g = df_result['movieId'].groupby(level=0, group_keys=False) # group by the first level of index\n",
    "#res = g.apply(lambda x: x.order(ascending=False)) # sort within each group in descending order \n",
    "res = g.apply(lambda x: x.sort_values(ascending=False))\n",
    "res = pd.DataFrame(res) #convert series to dataframe \n",
    "res.head()"
   ]
  },
  {
   "cell_type": "code",
   "execution_count": 20,
   "metadata": {
    "collapsed": false
   },
   "outputs": [
    {
     "data": {
      "text/html": [
       "<div>\n",
       "<table border=\"1\" class=\"dataframe\">\n",
       "  <thead>\n",
       "    <tr style=\"text-align: right;\">\n",
       "      <th></th>\n",
       "      <th>directorName</th>\n",
       "      <th>location1</th>\n",
       "      <th>location2</th>\n",
       "      <th>Total Movies</th>\n",
       "    </tr>\n",
       "  </thead>\n",
       "  <tbody>\n",
       "    <tr>\n",
       "      <th>0</th>\n",
       "      <td>Carol Reed</td>\n",
       "      <td>Austria</td>\n",
       "      <td>Vienna</td>\n",
       "      <td>9</td>\n",
       "    </tr>\n",
       "    <tr>\n",
       "      <th>1</th>\n",
       "      <td>Florian Henckel-Donnersmarck</td>\n",
       "      <td>Germany</td>\n",
       "      <td>Berlin</td>\n",
       "      <td>6</td>\n",
       "    </tr>\n",
       "    <tr>\n",
       "      <th>2</th>\n",
       "      <td>George Roy Hill</td>\n",
       "      <td>USA</td>\n",
       "      <td>California</td>\n",
       "      <td>10</td>\n",
       "    </tr>\n",
       "    <tr>\n",
       "      <th>3</th>\n",
       "      <td>Ian MacNaughton</td>\n",
       "      <td>UK</td>\n",
       "      <td>Scotland</td>\n",
       "      <td>16</td>\n",
       "    </tr>\n",
       "    <tr>\n",
       "      <th>4</th>\n",
       "      <td>Joseph L. Mankiewicz</td>\n",
       "      <td>USA</td>\n",
       "      <td>New York</td>\n",
       "      <td>3</td>\n",
       "    </tr>\n",
       "    <tr>\n",
       "      <th>5</th>\n",
       "      <td>Orson Welles</td>\n",
       "      <td>USA</td>\n",
       "      <td>California</td>\n",
       "      <td>9</td>\n",
       "    </tr>\n",
       "    <tr>\n",
       "      <th>6</th>\n",
       "      <td>Robert Mulligan</td>\n",
       "      <td>USA</td>\n",
       "      <td>California</td>\n",
       "      <td>5</td>\n",
       "    </tr>\n",
       "    <tr>\n",
       "      <th>7</th>\n",
       "      <td>Roberto Benigni</td>\n",
       "      <td>Italy</td>\n",
       "      <td>Tuscany</td>\n",
       "      <td>3</td>\n",
       "    </tr>\n",
       "    <tr>\n",
       "      <th>8</th>\n",
       "      <td>Stuart Rosenberg</td>\n",
       "      <td>USA</td>\n",
       "      <td>California</td>\n",
       "      <td>8</td>\n",
       "    </tr>\n",
       "    <tr>\n",
       "      <th>9</th>\n",
       "      <td>Tony Kaye</td>\n",
       "      <td>USA</td>\n",
       "      <td>California</td>\n",
       "      <td>2</td>\n",
       "    </tr>\n",
       "  </tbody>\n",
       "</table>\n",
       "</div>"
      ],
      "text/plain": [
       "                   directorName location1   location2  Total Movies\n",
       "0                    Carol Reed   Austria      Vienna             9\n",
       "1  Florian Henckel-Donnersmarck   Germany      Berlin             6\n",
       "2               George Roy Hill       USA  California            10\n",
       "3               Ian MacNaughton        UK    Scotland            16\n",
       "4          Joseph L. Mankiewicz       USA    New York             3\n",
       "5                  Orson Welles       USA  California             9\n",
       "6               Robert Mulligan       USA  California             5\n",
       "7               Roberto Benigni     Italy     Tuscany             3\n",
       "8              Stuart Rosenberg       USA  California             8\n",
       "9                     Tony Kaye       USA  California             2"
      ]
     },
     "execution_count": 20,
     "metadata": {},
     "output_type": "execute_result"
    }
   ],
   "source": [
    "res = res.reset_index()\n",
    "res = res.groupby(['directorName']).first()\n",
    "res = res.rename(columns={'movieId':'Total Movies'})\n",
    "res = res.reset_index()\n",
    "res"
   ]
  },
  {
   "cell_type": "code",
   "execution_count": 21,
   "metadata": {
    "collapsed": true
   },
   "outputs": [],
   "source": [
    "location = res['location2']"
   ]
  },
  {
   "cell_type": "code",
   "execution_count": 28,
   "metadata": {
    "collapsed": false
   },
   "outputs": [
    {
     "data": {
      "image/png": "[encoded data removed]",
      "text/plain": [
       "<matplotlib.figure.Figure at 0x15af43814a8>"
      ]
     },
     "metadata": {},
     "output_type": "display_data"
    }
   ],
   "source": [
    "ax = res.plot.bar(x='directorName', y=['Total Movies'] , title='Favourite location of Top 10 directors', figsize=(8,8), rot=75)\n",
    "ax.set_xlabel('Directors')\n",
    "ax.set_ylabel('Movie Count')\n",
    "ax.set_ylim(0,18)\n",
    "i = 0\n",
    "for p in ax.patches:\n",
    "    height = p.get_height()\n",
    "    ax.annotate(location[i] , xy=((p.get_x()), (p.get_height()*1.1)), rotation=30)\n",
    "    i = i +1\n",
    "\n",
    "\n",
    "plt.savefig(output_path + '\\\\favourite_location.jpeg')\n",
    "plt.show()"
   ]
  },
  {
   "cell_type": "code",
   "execution_count": null,
   "metadata": {
    "collapsed": true
   },
   "outputs": [],
   "source": []
  },
  {
   "cell_type": "code",
   "execution_count": null,
   "metadata": {
    "collapsed": true
   },
   "outputs": [],
   "source": []
  }
 ],
 "metadata": {
  "anaconda-cloud": {},
  "kernelspec": {
   "display_name": "Python [conda root]",
   "language": "python",
   "name": "conda-root-py"
  },
  "language_info": {
   "codemirror_mode": {
    "name": "ipython",
    "version": 3
   },
   "file_extension": ".py",
   "mimetype": "text/x-python",
   "name": "python",
   "nbconvert_exporter": "python",
   "pygments_lexer": "ipython3",
   "version": "3.5.2"
  }
 },
 "nbformat": 4,
 "nbformat_minor": 2
}
