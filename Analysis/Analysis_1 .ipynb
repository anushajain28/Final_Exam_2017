{
 "cells": [
  {
   "cell_type": "markdown",
   "metadata": {},
   "source": [
    "# Analyze the variation in ratings of critics and audience\n",
    "- based on the variation in ratings find out the highly dicisive and most balanced movies"
   ]
  },
  {
   "cell_type": "code",
   "execution_count": 1,
   "metadata": {
    "collapsed": true
   },
   "outputs": [],
   "source": [
    "import pandas as pd\n",
    "import os\n",
    "import csv\n",
    "%matplotlib inline\n",
    "import matplotlib.pyplot as plt\n",
    "import matplotlib"
   ]
  },
  {
   "cell_type": "code",
   "execution_count": 2,
   "metadata": {
    "collapsed": false
   },
   "outputs": [],
   "source": [
    "current_path =os.path.expanduser('~')\n",
    "current_path =os.path.join(current_path,'Final_Exam')\n",
    "input_path = os.path.join(current_path,'Data')\n",
    "output_path = os.path.join(current_path,'Analysis')\n",
    "output_path = os.path.join(output_path,'Analysis_1')"
   ]
  },
  {
   "cell_type": "code",
   "execution_count": 3,
   "metadata": {
    "collapsed": false
   },
   "outputs": [
    {
     "data": {
      "text/html": [
       "<div>\n",
       "<table border=\"1\" class=\"dataframe\">\n",
       "  <thead>\n",
       "    <tr style=\"text-align: right;\">\n",
       "      <th></th>\n",
       "      <th>movieId</th>\n",
       "      <th>title</th>\n",
       "      <th>genres</th>\n",
       "    </tr>\n",
       "  </thead>\n",
       "  <tbody>\n",
       "    <tr>\n",
       "      <th>0</th>\n",
       "      <td>1</td>\n",
       "      <td>Toy Story (1995)</td>\n",
       "      <td>Adventure|Animation|Children|Comedy|Fantasy</td>\n",
       "    </tr>\n",
       "    <tr>\n",
       "      <th>1</th>\n",
       "      <td>2</td>\n",
       "      <td>Jumanji (1995)</td>\n",
       "      <td>Adventure|Children|Fantasy</td>\n",
       "    </tr>\n",
       "    <tr>\n",
       "      <th>2</th>\n",
       "      <td>3</td>\n",
       "      <td>Grumpier Old Men (1995)</td>\n",
       "      <td>Comedy|Romance</td>\n",
       "    </tr>\n",
       "    <tr>\n",
       "      <th>3</th>\n",
       "      <td>4</td>\n",
       "      <td>Waiting to Exhale (1995)</td>\n",
       "      <td>Comedy|Drama|Romance</td>\n",
       "    </tr>\n",
       "    <tr>\n",
       "      <th>4</th>\n",
       "      <td>5</td>\n",
       "      <td>Father of the Bride Part II (1995)</td>\n",
       "      <td>Comedy</td>\n",
       "    </tr>\n",
       "  </tbody>\n",
       "</table>\n",
       "</div>"
      ],
      "text/plain": [
       "   movieId                               title  \\\n",
       "0        1                    Toy Story (1995)   \n",
       "1        2                      Jumanji (1995)   \n",
       "2        3             Grumpier Old Men (1995)   \n",
       "3        4            Waiting to Exhale (1995)   \n",
       "4        5  Father of the Bride Part II (1995)   \n",
       "\n",
       "                                        genres  \n",
       "0  Adventure|Animation|Children|Comedy|Fantasy  \n",
       "1                   Adventure|Children|Fantasy  \n",
       "2                               Comedy|Romance  \n",
       "3                         Comedy|Drama|Romance  \n",
       "4                                       Comedy  "
      ]
     },
     "execution_count": 3,
     "metadata": {},
     "output_type": "execute_result"
    }
   ],
   "source": [
    "df_movies = pd.read_csv( input_path + '\\\\movies.csv', encoding='ISO-8859-1')         #read movies csv file into a dataframe\n",
    "df_movies.head()"
   ]
  },
  {
   "cell_type": "code",
   "execution_count": null,
   "metadata": {
    "collapsed": false
   },
   "outputs": [],
   "source": [
    "#df_movies.shape"
   ]
  },
  {
   "cell_type": "code",
   "execution_count": 4,
   "metadata": {
    "collapsed": false
   },
   "outputs": [],
   "source": [
    "df_ratings = pd.read_csv( input_path + '\\\\ratings.csv', encoding='ISO-8859-1')\n",
    "#df_ratings.shape"
   ]
  },
  {
   "cell_type": "code",
   "execution_count": 5,
   "metadata": {
    "collapsed": false
   },
   "outputs": [
    {
     "data": {
      "text/html": [
       "<div>\n",
       "<table border=\"1\" class=\"dataframe\">\n",
       "  <thead>\n",
       "    <tr style=\"text-align: right;\">\n",
       "      <th></th>\n",
       "      <th>userId</th>\n",
       "      <th>movieId</th>\n",
       "      <th>rating</th>\n",
       "      <th>timestamp</th>\n",
       "    </tr>\n",
       "  </thead>\n",
       "  <tbody>\n",
       "    <tr>\n",
       "      <th>0</th>\n",
       "      <td>1</td>\n",
       "      <td>2</td>\n",
       "      <td>3.5</td>\n",
       "      <td>1112486027</td>\n",
       "    </tr>\n",
       "    <tr>\n",
       "      <th>1</th>\n",
       "      <td>1</td>\n",
       "      <td>29</td>\n",
       "      <td>3.5</td>\n",
       "      <td>1112484676</td>\n",
       "    </tr>\n",
       "    <tr>\n",
       "      <th>2</th>\n",
       "      <td>1</td>\n",
       "      <td>32</td>\n",
       "      <td>3.5</td>\n",
       "      <td>1112484819</td>\n",
       "    </tr>\n",
       "    <tr>\n",
       "      <th>3</th>\n",
       "      <td>1</td>\n",
       "      <td>47</td>\n",
       "      <td>3.5</td>\n",
       "      <td>1112484727</td>\n",
       "    </tr>\n",
       "    <tr>\n",
       "      <th>4</th>\n",
       "      <td>1</td>\n",
       "      <td>50</td>\n",
       "      <td>3.5</td>\n",
       "      <td>1112484580</td>\n",
       "    </tr>\n",
       "  </tbody>\n",
       "</table>\n",
       "</div>"
      ],
      "text/plain": [
       "   userId  movieId  rating   timestamp\n",
       "0       1        2     3.5  1112486027\n",
       "1       1       29     3.5  1112484676\n",
       "2       1       32     3.5  1112484819\n",
       "3       1       47     3.5  1112484727\n",
       "4       1       50     3.5  1112484580"
      ]
     },
     "execution_count": 5,
     "metadata": {},
     "output_type": "execute_result"
    }
   ],
   "source": [
    "df_ratings.head()"
   ]
  },
  {
   "cell_type": "code",
   "execution_count": 6,
   "metadata": {
    "collapsed": false
   },
   "outputs": [
    {
     "data": {
      "text/html": [
       "<div>\n",
       "<table border=\"1\" class=\"dataframe\">\n",
       "  <thead>\n",
       "    <tr style=\"text-align: right;\">\n",
       "      <th></th>\n",
       "      <th>id</th>\n",
       "      <th>title</th>\n",
       "      <th>imdbID</th>\n",
       "      <th>spanishTitle</th>\n",
       "      <th>imdbPictureURL</th>\n",
       "      <th>year</th>\n",
       "      <th>rtID</th>\n",
       "      <th>rtAllCriticsRating</th>\n",
       "      <th>rtAllCriticsNumReviews</th>\n",
       "      <th>rtAllCriticsNumFresh</th>\n",
       "      <th>...</th>\n",
       "      <th>rtAllCriticsScore</th>\n",
       "      <th>rtTopCriticsRating</th>\n",
       "      <th>rtTopCriticsNumReviews</th>\n",
       "      <th>rtTopCriticsNumFresh</th>\n",
       "      <th>rtTopCriticsNumRotten</th>\n",
       "      <th>rtTopCriticsScore</th>\n",
       "      <th>rtAudienceRating</th>\n",
       "      <th>rtAudienceNumRatings</th>\n",
       "      <th>rtAudienceScore</th>\n",
       "      <th>rtPictureURL</th>\n",
       "    </tr>\n",
       "  </thead>\n",
       "  <tbody>\n",
       "    <tr>\n",
       "      <th>0</th>\n",
       "      <td>1</td>\n",
       "      <td>Toy story</td>\n",
       "      <td>114709</td>\n",
       "      <td>Toy story (juguetes)</td>\n",
       "      <td>http://ia.media-imdb.com/images/M/MV5BMTMwNDU0...</td>\n",
       "      <td>1995</td>\n",
       "      <td>toy_story</td>\n",
       "      <td>9</td>\n",
       "      <td>73</td>\n",
       "      <td>73</td>\n",
       "      <td>...</td>\n",
       "      <td>100</td>\n",
       "      <td>8.5</td>\n",
       "      <td>17</td>\n",
       "      <td>17</td>\n",
       "      <td>0</td>\n",
       "      <td>100</td>\n",
       "      <td>3.7</td>\n",
       "      <td>102338</td>\n",
       "      <td>81</td>\n",
       "      <td>http://content7.flixster.com/movie/10/93/63/10...</td>\n",
       "    </tr>\n",
       "    <tr>\n",
       "      <th>1</th>\n",
       "      <td>2</td>\n",
       "      <td>Jumanji</td>\n",
       "      <td>113497</td>\n",
       "      <td>Jumanji</td>\n",
       "      <td>http://ia.media-imdb.com/images/M/MV5BMzM5NjE1...</td>\n",
       "      <td>1995</td>\n",
       "      <td>1068044-jumanji</td>\n",
       "      <td>5.6</td>\n",
       "      <td>28</td>\n",
       "      <td>13</td>\n",
       "      <td>...</td>\n",
       "      <td>46</td>\n",
       "      <td>5.8</td>\n",
       "      <td>5</td>\n",
       "      <td>2</td>\n",
       "      <td>3</td>\n",
       "      <td>40</td>\n",
       "      <td>3.2</td>\n",
       "      <td>44587</td>\n",
       "      <td>61</td>\n",
       "      <td>http://content8.flixster.com/movie/56/79/73/56...</td>\n",
       "    </tr>\n",
       "    <tr>\n",
       "      <th>2</th>\n",
       "      <td>3</td>\n",
       "      <td>Grumpy Old Men</td>\n",
       "      <td>107050</td>\n",
       "      <td>Dos viejos gruñones</td>\n",
       "      <td>http://ia.media-imdb.com/images/M/MV5BMTI5MTgy...</td>\n",
       "      <td>1993</td>\n",
       "      <td>grumpy_old_men</td>\n",
       "      <td>5.9</td>\n",
       "      <td>36</td>\n",
       "      <td>24</td>\n",
       "      <td>...</td>\n",
       "      <td>66</td>\n",
       "      <td>7</td>\n",
       "      <td>6</td>\n",
       "      <td>5</td>\n",
       "      <td>1</td>\n",
       "      <td>83</td>\n",
       "      <td>3.2</td>\n",
       "      <td>10489</td>\n",
       "      <td>66</td>\n",
       "      <td>http://content6.flixster.com/movie/25/60/25602...</td>\n",
       "    </tr>\n",
       "    <tr>\n",
       "      <th>3</th>\n",
       "      <td>4</td>\n",
       "      <td>Waiting to Exhale</td>\n",
       "      <td>114885</td>\n",
       "      <td>Esperando un respiro</td>\n",
       "      <td>http://ia.media-imdb.com/images/M/MV5BMTczMTMy...</td>\n",
       "      <td>1995</td>\n",
       "      <td>waiting_to_exhale</td>\n",
       "      <td>5.6</td>\n",
       "      <td>25</td>\n",
       "      <td>14</td>\n",
       "      <td>...</td>\n",
       "      <td>56</td>\n",
       "      <td>5.5</td>\n",
       "      <td>11</td>\n",
       "      <td>5</td>\n",
       "      <td>6</td>\n",
       "      <td>45</td>\n",
       "      <td>3.3</td>\n",
       "      <td>5666</td>\n",
       "      <td>79</td>\n",
       "      <td>http://content9.flixster.com/movie/10/94/17/10...</td>\n",
       "    </tr>\n",
       "    <tr>\n",
       "      <th>4</th>\n",
       "      <td>5</td>\n",
       "      <td>Father of the Bride Part II</td>\n",
       "      <td>113041</td>\n",
       "      <td>Vuelve el padre de la novia (Ahora también abu...</td>\n",
       "      <td>http://ia.media-imdb.com/images/M/MV5BMTg1NDc2...</td>\n",
       "      <td>1995</td>\n",
       "      <td>father_of_the_bride_part_ii</td>\n",
       "      <td>5.3</td>\n",
       "      <td>19</td>\n",
       "      <td>9</td>\n",
       "      <td>...</td>\n",
       "      <td>47</td>\n",
       "      <td>5.4</td>\n",
       "      <td>5</td>\n",
       "      <td>1</td>\n",
       "      <td>4</td>\n",
       "      <td>20</td>\n",
       "      <td>3</td>\n",
       "      <td>13761</td>\n",
       "      <td>64</td>\n",
       "      <td>http://content8.flixster.com/movie/25/54/25542...</td>\n",
       "    </tr>\n",
       "  </tbody>\n",
       "</table>\n",
       "<p>5 rows × 21 columns</p>\n",
       "</div>"
      ],
      "text/plain": [
       "   id                        title  imdbID  \\\n",
       "0   1                    Toy story  114709   \n",
       "1   2                      Jumanji  113497   \n",
       "2   3               Grumpy Old Men  107050   \n",
       "3   4            Waiting to Exhale  114885   \n",
       "4   5  Father of the Bride Part II  113041   \n",
       "\n",
       "                                        spanishTitle  \\\n",
       "0                               Toy story (juguetes)   \n",
       "1                                            Jumanji   \n",
       "2                                Dos viejos gruñones   \n",
       "3                               Esperando un respiro   \n",
       "4  Vuelve el padre de la novia (Ahora también abu...   \n",
       "\n",
       "                                      imdbPictureURL  year  \\\n",
       "0  http://ia.media-imdb.com/images/M/MV5BMTMwNDU0...  1995   \n",
       "1  http://ia.media-imdb.com/images/M/MV5BMzM5NjE1...  1995   \n",
       "2  http://ia.media-imdb.com/images/M/MV5BMTI5MTgy...  1993   \n",
       "3  http://ia.media-imdb.com/images/M/MV5BMTczMTMy...  1995   \n",
       "4  http://ia.media-imdb.com/images/M/MV5BMTg1NDc2...  1995   \n",
       "\n",
       "                          rtID rtAllCriticsRating rtAllCriticsNumReviews  \\\n",
       "0                    toy_story                  9                     73   \n",
       "1              1068044-jumanji                5.6                     28   \n",
       "2               grumpy_old_men                5.9                     36   \n",
       "3            waiting_to_exhale                5.6                     25   \n",
       "4  father_of_the_bride_part_ii                5.3                     19   \n",
       "\n",
       "  rtAllCriticsNumFresh                        ...                          \\\n",
       "0                   73                        ...                           \n",
       "1                   13                        ...                           \n",
       "2                   24                        ...                           \n",
       "3                   14                        ...                           \n",
       "4                    9                        ...                           \n",
       "\n",
       "  rtAllCriticsScore rtTopCriticsRating rtTopCriticsNumReviews  \\\n",
       "0               100                8.5                     17   \n",
       "1                46                5.8                      5   \n",
       "2                66                  7                      6   \n",
       "3                56                5.5                     11   \n",
       "4                47                5.4                      5   \n",
       "\n",
       "  rtTopCriticsNumFresh rtTopCriticsNumRotten rtTopCriticsScore  \\\n",
       "0                   17                     0               100   \n",
       "1                    2                     3                40   \n",
       "2                    5                     1                83   \n",
       "3                    5                     6                45   \n",
       "4                    1                     4                20   \n",
       "\n",
       "  rtAudienceRating rtAudienceNumRatings rtAudienceScore  \\\n",
       "0              3.7               102338              81   \n",
       "1              3.2                44587              61   \n",
       "2              3.2                10489              66   \n",
       "3              3.3                 5666              79   \n",
       "4                3                13761              64   \n",
       "\n",
       "                                        rtPictureURL  \n",
       "0  http://content7.flixster.com/movie/10/93/63/10...  \n",
       "1  http://content8.flixster.com/movie/56/79/73/56...  \n",
       "2  http://content6.flixster.com/movie/25/60/25602...  \n",
       "3  http://content9.flixster.com/movie/10/94/17/10...  \n",
       "4  http://content8.flixster.com/movie/25/54/25542...  \n",
       "\n",
       "[5 rows x 21 columns]"
      ]
     },
     "execution_count": 6,
     "metadata": {},
     "output_type": "execute_result"
    }
   ],
   "source": [
    "df_critics_rating = pd.read_csv( input_path + '\\\\movies_1.csv', encoding='ISO-8859-1')\n",
    "df_critics_rating.head()"
   ]
  },
  {
   "cell_type": "markdown",
   "metadata": {},
   "source": [
    "- cleaning the data of input file. Removing all records having '\\\\N' as values. \n",
    "- converting ratings and number of critics to float so that can be used comparison"
   ]
  },
  {
   "cell_type": "code",
   "execution_count": 7,
   "metadata": {
    "collapsed": false
   },
   "outputs": [],
   "source": [
    "df_critics_rating = df_critics_rating.filter(['id','rtAllCriticsRating', 'rtAllCriticsNumReviews'], axis=1)\n",
    "df_critics_rating = df_critics_rating[df_critics_rating.rtAllCriticsRating.apply(lambda x: x != '\\\\N')]\n",
    "df_critics_rating['rtAllCriticsNumReviews'] = df_critics_rating.rtAllCriticsNumReviews.astype(float)\n",
    "df_critics_rating['rtAllCriticsRating'] = df_critics_rating.rtAllCriticsRating.astype(float)\n",
    "#df_critics_rating = df_critics_rating[df_critics_rating.rtAllCriticsRating = 0]\n",
    "#df_critics_rating.head()\n",
    "#df_critics_rating.dtypes"
   ]
  },
  {
   "cell_type": "markdown",
   "metadata": {},
   "source": [
    "- Taking into considertaion those movies which have rated by atleast 30 critics"
   ]
  },
  {
   "cell_type": "code",
   "execution_count": 8,
   "metadata": {
    "collapsed": false
   },
   "outputs": [],
   "source": [
    "df_x = df_critics_rating[(df_critics_rating['rtAllCriticsNumReviews'])> 30.0]\n",
    "#df_x.dtypes"
   ]
  },
  {
   "cell_type": "markdown",
   "metadata": {},
   "source": [
    "- renaming the column for use in join later\n",
    "- calculating the ratings by critics to equivalent of 5 "
   ]
  },
  {
   "cell_type": "code",
   "execution_count": 9,
   "metadata": {
    "collapsed": false
   },
   "outputs": [
    {
     "data": {
      "text/html": [
       "<div>\n",
       "<table border=\"1\" class=\"dataframe\">\n",
       "  <thead>\n",
       "    <tr style=\"text-align: right;\">\n",
       "      <th></th>\n",
       "      <th>movieId</th>\n",
       "      <th>rtAllCriticsRating</th>\n",
       "      <th>rtAllCriticsNumReviews</th>\n",
       "    </tr>\n",
       "  </thead>\n",
       "  <tbody>\n",
       "    <tr>\n",
       "      <th>0</th>\n",
       "      <td>1</td>\n",
       "      <td>4.50</td>\n",
       "      <td>73</td>\n",
       "    </tr>\n",
       "    <tr>\n",
       "      <th>2</th>\n",
       "      <td>3</td>\n",
       "      <td>2.95</td>\n",
       "      <td>36</td>\n",
       "    </tr>\n",
       "    <tr>\n",
       "      <th>5</th>\n",
       "      <td>6</td>\n",
       "      <td>3.85</td>\n",
       "      <td>58</td>\n",
       "    </tr>\n",
       "    <tr>\n",
       "      <th>6</th>\n",
       "      <td>7</td>\n",
       "      <td>3.70</td>\n",
       "      <td>31</td>\n",
       "    </tr>\n",
       "    <tr>\n",
       "      <th>8</th>\n",
       "      <td>9</td>\n",
       "      <td>2.60</td>\n",
       "      <td>32</td>\n",
       "    </tr>\n",
       "  </tbody>\n",
       "</table>\n",
       "</div>"
      ],
      "text/plain": [
       "   movieId  rtAllCriticsRating  rtAllCriticsNumReviews\n",
       "0        1                4.50                      73\n",
       "2        3                2.95                      36\n",
       "5        6                3.85                      58\n",
       "6        7                3.70                      31\n",
       "8        9                2.60                      32"
      ]
     },
     "execution_count": 9,
     "metadata": {},
     "output_type": "execute_result"
    }
   ],
   "source": [
    "df_x = df_x.rename(columns={'id':'movieId'})\n",
    "df_x['rtAllCriticsRating'] =df_x['rtAllCriticsRating']*0.5 #calculate the equivalent rating from 5\n",
    "df_x['rtAllCriticsNumReviews'] = df_x.rtAllCriticsNumReviews.astype(int)\n",
    "df_x.head()"
   ]
  },
  {
   "cell_type": "markdown",
   "metadata": {
    "collapsed": true
   },
   "source": [
    "# Weighted Mean formula used for calculating weighted rating of users \n",
    "- weighted rating = (v/(v+m))R+(m/(v+m))C\n",
    "- where:\n",
    "- R = average for the movie (mean) = (Rating)\n",
    "- v = number of votes for the movie = (votes)\n",
    "- m = minimum votes required to be listed in the Top 50 (currently 500)\n",
    "- C = the mean vote across the whole report "
   ]
  },
  {
   "cell_type": "markdown",
   "metadata": {},
   "source": [
    "- calculating value of R"
   ]
  },
  {
   "cell_type": "code",
   "execution_count": 10,
   "metadata": {
    "collapsed": false
   },
   "outputs": [
    {
     "data": {
      "text/html": [
       "<div>\n",
       "<table border=\"1\" class=\"dataframe\">\n",
       "  <thead>\n",
       "    <tr style=\"text-align: right;\">\n",
       "      <th></th>\n",
       "      <th>movieId</th>\n",
       "      <th>rating</th>\n",
       "    </tr>\n",
       "  </thead>\n",
       "  <tbody>\n",
       "    <tr>\n",
       "      <th>0</th>\n",
       "      <td>95517</td>\n",
       "      <td>5.0</td>\n",
       "    </tr>\n",
       "    <tr>\n",
       "      <th>1</th>\n",
       "      <td>105846</td>\n",
       "      <td>5.0</td>\n",
       "    </tr>\n",
       "    <tr>\n",
       "      <th>2</th>\n",
       "      <td>89133</td>\n",
       "      <td>5.0</td>\n",
       "    </tr>\n",
       "    <tr>\n",
       "      <th>3</th>\n",
       "      <td>105187</td>\n",
       "      <td>5.0</td>\n",
       "    </tr>\n",
       "    <tr>\n",
       "      <th>4</th>\n",
       "      <td>105191</td>\n",
       "      <td>5.0</td>\n",
       "    </tr>\n",
       "  </tbody>\n",
       "</table>\n",
       "</div>"
      ],
      "text/plain": [
       "   movieId  rating\n",
       "0    95517     5.0\n",
       "1   105846     5.0\n",
       "2    89133     5.0\n",
       "3   105187     5.0\n",
       "4   105191     5.0"
      ]
     },
     "execution_count": 10,
     "metadata": {},
     "output_type": "execute_result"
    }
   ],
   "source": [
    "df_avg_rating = df_ratings.groupby('movieId').mean()\n",
    "df_avg_rating = df_avg_rating[['rating']]\n",
    "df_avg_rating = df_avg_rating.sort_values(by='rating', ascending = False)\n",
    "df_avg_rating = df_avg_rating.reset_index()\n",
    "df_avg_rating.head()"
   ]
  },
  {
   "cell_type": "markdown",
   "metadata": {},
   "source": [
    "- calculating value of C"
   ]
  },
  {
   "cell_type": "code",
   "execution_count": 11,
   "metadata": {
    "collapsed": false
   },
   "outputs": [],
   "source": [
    "c = df_avg_rating['rating'].mean()  # the mean vote across the whole report"
   ]
  },
  {
   "cell_type": "markdown",
   "metadata": {},
   "source": [
    "- calculating total no of votes/ratings for each , V"
   ]
  },
  {
   "cell_type": "code",
   "execution_count": 12,
   "metadata": {
    "collapsed": true
   },
   "outputs": [],
   "source": [
    "df_counts = df_ratings.groupby('movieId').count()\n",
    "df_counts = df_counts[['userId']]\n",
    "df_counts = df_counts.sort_values(by='userId', ascending = False)\n",
    "df_counts = df_counts.reset_index()\n",
    "#df_counts.shape"
   ]
  },
  {
   "cell_type": "markdown",
   "metadata": {},
   "source": [
    "- assuming 500 as threshhold for minimum votes to be listed in top 10\n",
    "- considering movies which have been rated by alteast 500 users"
   ]
  },
  {
   "cell_type": "code",
   "execution_count": 13,
   "metadata": {
    "collapsed": false
   },
   "outputs": [
    {
     "data": {
      "text/html": [
       "<div>\n",
       "<table border=\"1\" class=\"dataframe\">\n",
       "  <thead>\n",
       "    <tr style=\"text-align: right;\">\n",
       "      <th></th>\n",
       "      <th>movieId</th>\n",
       "      <th>userId</th>\n",
       "    </tr>\n",
       "  </thead>\n",
       "  <tbody>\n",
       "    <tr>\n",
       "      <th>0</th>\n",
       "      <td>296</td>\n",
       "      <td>67310</td>\n",
       "    </tr>\n",
       "    <tr>\n",
       "      <th>1</th>\n",
       "      <td>356</td>\n",
       "      <td>66172</td>\n",
       "    </tr>\n",
       "    <tr>\n",
       "      <th>2</th>\n",
       "      <td>318</td>\n",
       "      <td>63366</td>\n",
       "    </tr>\n",
       "    <tr>\n",
       "      <th>3</th>\n",
       "      <td>593</td>\n",
       "      <td>63299</td>\n",
       "    </tr>\n",
       "    <tr>\n",
       "      <th>4</th>\n",
       "      <td>480</td>\n",
       "      <td>59715</td>\n",
       "    </tr>\n",
       "  </tbody>\n",
       "</table>\n",
       "</div>"
      ],
      "text/plain": [
       "   movieId  userId\n",
       "0      296   67310\n",
       "1      356   66172\n",
       "2      318   63366\n",
       "3      593   63299\n",
       "4      480   59715"
      ]
     },
     "execution_count": 13,
     "metadata": {},
     "output_type": "execute_result"
    }
   ],
   "source": [
    "df_counts = df_counts[df_counts['userId'] > 500]  #considering 500 as threshhold for minimum votes to be listed in top 10\n",
    "df_counts.head()"
   ]
  },
  {
   "cell_type": "code",
   "execution_count": 14,
   "metadata": {
    "collapsed": false
   },
   "outputs": [
    {
     "data": {
      "text/html": [
       "<div>\n",
       "<table border=\"1\" class=\"dataframe\">\n",
       "  <thead>\n",
       "    <tr style=\"text-align: right;\">\n",
       "      <th></th>\n",
       "      <th>movieId</th>\n",
       "      <th>rating</th>\n",
       "      <th>userId</th>\n",
       "    </tr>\n",
       "  </thead>\n",
       "  <tbody>\n",
       "    <tr>\n",
       "      <th>0</th>\n",
       "      <td>318</td>\n",
       "      <td>4.446990</td>\n",
       "      <td>63366</td>\n",
       "    </tr>\n",
       "    <tr>\n",
       "      <th>1</th>\n",
       "      <td>858</td>\n",
       "      <td>4.364732</td>\n",
       "      <td>41355</td>\n",
       "    </tr>\n",
       "    <tr>\n",
       "      <th>2</th>\n",
       "      <td>50</td>\n",
       "      <td>4.334372</td>\n",
       "      <td>47006</td>\n",
       "    </tr>\n",
       "    <tr>\n",
       "      <th>3</th>\n",
       "      <td>527</td>\n",
       "      <td>4.310175</td>\n",
       "      <td>50054</td>\n",
       "    </tr>\n",
       "    <tr>\n",
       "      <th>4</th>\n",
       "      <td>1221</td>\n",
       "      <td>4.275641</td>\n",
       "      <td>27398</td>\n",
       "    </tr>\n",
       "  </tbody>\n",
       "</table>\n",
       "</div>"
      ],
      "text/plain": [
       "   movieId    rating  userId\n",
       "0      318  4.446990   63366\n",
       "1      858  4.364732   41355\n",
       "2       50  4.334372   47006\n",
       "3      527  4.310175   50054\n",
       "4     1221  4.275641   27398"
      ]
     },
     "execution_count": 14,
     "metadata": {},
     "output_type": "execute_result"
    }
   ],
   "source": [
    "df_result = pd.merge(df_avg_rating, df_counts, on = 'movieId')\n",
    "df_result.head()"
   ]
  },
  {
   "cell_type": "markdown",
   "metadata": {},
   "source": [
    "- Calculating weighted mean rating of users"
   ]
  },
  {
   "cell_type": "code",
   "execution_count": 15,
   "metadata": {
    "collapsed": false
   },
   "outputs": [
    {
     "data": {
      "text/html": [
       "<div>\n",
       "<table border=\"1\" class=\"dataframe\">\n",
       "  <thead>\n",
       "    <tr style=\"text-align: right;\">\n",
       "      <th></th>\n",
       "      <th>movieId</th>\n",
       "      <th>rating</th>\n",
       "      <th>userId</th>\n",
       "      <th>weighted_rating</th>\n",
       "    </tr>\n",
       "  </thead>\n",
       "  <tbody>\n",
       "    <tr>\n",
       "      <th>4476</th>\n",
       "      <td>3593</td>\n",
       "      <td>1.600554</td>\n",
       "      <td>3973</td>\n",
       "      <td>1.771876</td>\n",
       "    </tr>\n",
       "    <tr>\n",
       "      <th>4482</th>\n",
       "      <td>4775</td>\n",
       "      <td>1.124088</td>\n",
       "      <td>685</td>\n",
       "      <td>1.971814</td>\n",
       "    </tr>\n",
       "    <tr>\n",
       "      <th>4481</th>\n",
       "      <td>6587</td>\n",
       "      <td>1.164051</td>\n",
       "      <td>701</td>\n",
       "      <td>1.983847</td>\n",
       "    </tr>\n",
       "    <tr>\n",
       "      <th>4463</th>\n",
       "      <td>1760</td>\n",
       "      <td>1.770316</td>\n",
       "      <td>2658</td>\n",
       "      <td>1.986099</td>\n",
       "    </tr>\n",
       "    <tr>\n",
       "      <th>4442</th>\n",
       "      <td>1556</td>\n",
       "      <td>1.912317</td>\n",
       "      <td>5326</td>\n",
       "      <td>2.017096</td>\n",
       "    </tr>\n",
       "  </tbody>\n",
       "</table>\n",
       "</div>"
      ],
      "text/plain": [
       "      movieId    rating  userId  weighted_rating\n",
       "4476     3593  1.600554    3973         1.771876\n",
       "4482     4775  1.124088     685         1.971814\n",
       "4481     6587  1.164051     701         1.983847\n",
       "4463     1760  1.770316    2658         1.986099\n",
       "4442     1556  1.912317    5326         2.017096"
      ]
     },
     "execution_count": 15,
     "metadata": {},
     "output_type": "execute_result"
    }
   ],
   "source": [
    "df_result['weighted_rating'] =((df_result['userId']/(df_result['userId']+500))*df_result['rating'] + (500/(df_result['userId']+500))*c)\n",
    "df_result = df_result.sort_values(by='weighted_rating', ascending = 'False')\n",
    "df_result.head()"
   ]
  },
  {
   "cell_type": "markdown",
   "metadata": {},
   "source": [
    "- Extracting year from movie title"
   ]
  },
  {
   "cell_type": "code",
   "execution_count": 16,
   "metadata": {
    "collapsed": false
   },
   "outputs": [
    {
     "data": {
      "text/html": [
       "<div>\n",
       "<table border=\"1\" class=\"dataframe\">\n",
       "  <thead>\n",
       "    <tr style=\"text-align: right;\">\n",
       "      <th></th>\n",
       "      <th>movieId</th>\n",
       "      <th>title</th>\n",
       "      <th>genres</th>\n",
       "      <th>year</th>\n",
       "    </tr>\n",
       "  </thead>\n",
       "  <tbody>\n",
       "    <tr>\n",
       "      <th>26487</th>\n",
       "      <td>127122</td>\n",
       "      <td>Last Days in the Desert (2015)</td>\n",
       "      <td>Adventure|Drama</td>\n",
       "      <td>2015</td>\n",
       "    </tr>\n",
       "    <tr>\n",
       "      <th>27122</th>\n",
       "      <td>130490</td>\n",
       "      <td>Insurgent (2015)</td>\n",
       "      <td>Action|Romance|Sci-Fi</td>\n",
       "      <td>2015</td>\n",
       "    </tr>\n",
       "    <tr>\n",
       "      <th>26496</th>\n",
       "      <td>127140</td>\n",
       "      <td>Sleeping with Other People (2015)</td>\n",
       "      <td>Comedy</td>\n",
       "      <td>2015</td>\n",
       "    </tr>\n",
       "    <tr>\n",
       "      <th>26495</th>\n",
       "      <td>127138</td>\n",
       "      <td>Ten Thousand Saints (2015)</td>\n",
       "      <td>Comedy|Drama</td>\n",
       "      <td>2015</td>\n",
       "    </tr>\n",
       "    <tr>\n",
       "      <th>26494</th>\n",
       "      <td>127136</td>\n",
       "      <td>True Story (2015)</td>\n",
       "      <td>Drama|Mystery|Thriller</td>\n",
       "      <td>2015</td>\n",
       "    </tr>\n",
       "  </tbody>\n",
       "</table>\n",
       "</div>"
      ],
      "text/plain": [
       "       movieId                              title                  genres  \\\n",
       "26487   127122     Last Days in the Desert (2015)         Adventure|Drama   \n",
       "27122   130490                   Insurgent (2015)   Action|Romance|Sci-Fi   \n",
       "26496   127140  Sleeping with Other People (2015)                  Comedy   \n",
       "26495   127138         Ten Thousand Saints (2015)            Comedy|Drama   \n",
       "26494   127136                  True Story (2015)  Drama|Mystery|Thriller   \n",
       "\n",
       "       year  \n",
       "26487  2015  \n",
       "27122  2015  \n",
       "26496  2015  \n",
       "26495  2015  \n",
       "26494  2015  "
      ]
     },
     "execution_count": 16,
     "metadata": {},
     "output_type": "execute_result"
    }
   ],
   "source": [
    "df_movies['year'] = df_movies.title.apply(lambda x : int(x[-5:-1]) if x[-5:-1].isdigit() else 1900)  # extract year of movie from title\n",
    "df_movies.sort_values(by='year', ascending =  False).head()"
   ]
  },
  {
   "cell_type": "markdown",
   "metadata": {},
   "source": [
    "- merging ratings and movie titles"
   ]
  },
  {
   "cell_type": "code",
   "execution_count": 17,
   "metadata": {
    "collapsed": false
   },
   "outputs": [
    {
     "data": {
      "text/html": [
       "<div>\n",
       "<table border=\"1\" class=\"dataframe\">\n",
       "  <thead>\n",
       "    <tr style=\"text-align: right;\">\n",
       "      <th></th>\n",
       "      <th>movieId</th>\n",
       "      <th>rating</th>\n",
       "      <th>userId</th>\n",
       "      <th>weighted_rating</th>\n",
       "      <th>title</th>\n",
       "      <th>genres</th>\n",
       "      <th>year</th>\n",
       "    </tr>\n",
       "  </thead>\n",
       "  <tbody>\n",
       "    <tr>\n",
       "      <th>0</th>\n",
       "      <td>3593</td>\n",
       "      <td>1.600554</td>\n",
       "      <td>3973</td>\n",
       "      <td>1.771876</td>\n",
       "      <td>Battlefield Earth (2000)</td>\n",
       "      <td>Action|Sci-Fi</td>\n",
       "      <td>2000</td>\n",
       "    </tr>\n",
       "    <tr>\n",
       "      <th>1</th>\n",
       "      <td>4775</td>\n",
       "      <td>1.124088</td>\n",
       "      <td>685</td>\n",
       "      <td>1.971814</td>\n",
       "      <td>Glitter (2001)</td>\n",
       "      <td>Drama|Musical|Romance</td>\n",
       "      <td>2001</td>\n",
       "    </tr>\n",
       "    <tr>\n",
       "      <th>2</th>\n",
       "      <td>6587</td>\n",
       "      <td>1.164051</td>\n",
       "      <td>701</td>\n",
       "      <td>1.983847</td>\n",
       "      <td>Gigli (2003)</td>\n",
       "      <td>Comedy|Crime|Romance</td>\n",
       "      <td>2003</td>\n",
       "    </tr>\n",
       "    <tr>\n",
       "      <th>3</th>\n",
       "      <td>1760</td>\n",
       "      <td>1.770316</td>\n",
       "      <td>2658</td>\n",
       "      <td>1.986099</td>\n",
       "      <td>Spice World (1997)</td>\n",
       "      <td>Comedy</td>\n",
       "      <td>1997</td>\n",
       "    </tr>\n",
       "    <tr>\n",
       "      <th>4</th>\n",
       "      <td>1556</td>\n",
       "      <td>1.912317</td>\n",
       "      <td>5326</td>\n",
       "      <td>2.017096</td>\n",
       "      <td>Speed 2: Cruise Control (1997)</td>\n",
       "      <td>Action|Romance|Thriller</td>\n",
       "      <td>1997</td>\n",
       "    </tr>\n",
       "  </tbody>\n",
       "</table>\n",
       "</div>"
      ],
      "text/plain": [
       "   movieId    rating  userId  weighted_rating                           title  \\\n",
       "0     3593  1.600554    3973         1.771876        Battlefield Earth (2000)   \n",
       "1     4775  1.124088     685         1.971814                  Glitter (2001)   \n",
       "2     6587  1.164051     701         1.983847                    Gigli (2003)   \n",
       "3     1760  1.770316    2658         1.986099              Spice World (1997)   \n",
       "4     1556  1.912317    5326         2.017096  Speed 2: Cruise Control (1997)   \n",
       "\n",
       "                    genres  year  \n",
       "0            Action|Sci-Fi  2000  \n",
       "1    Drama|Musical|Romance  2001  \n",
       "2     Comedy|Crime|Romance  2003  \n",
       "3                   Comedy  1997  \n",
       "4  Action|Romance|Thriller  1997  "
      ]
     },
     "execution_count": 17,
     "metadata": {},
     "output_type": "execute_result"
    }
   ],
   "source": [
    "df_result = pd.merge(df_result, df_movies, on='movieId')\n",
    "df_result.head()"
   ]
  },
  {
   "cell_type": "code",
   "execution_count": 18,
   "metadata": {
    "collapsed": false
   },
   "outputs": [],
   "source": [
    "df_result = df_result.drop(['userId','rating'] , axis = 1)"
   ]
  },
  {
   "cell_type": "code",
   "execution_count": 19,
   "metadata": {
    "collapsed": false
   },
   "outputs": [
    {
     "data": {
      "text/html": [
       "<div>\n",
       "<table border=\"1\" class=\"dataframe\">\n",
       "  <thead>\n",
       "    <tr style=\"text-align: right;\">\n",
       "      <th></th>\n",
       "      <th>movieId</th>\n",
       "      <th>user_rating</th>\n",
       "      <th>title</th>\n",
       "      <th>genres</th>\n",
       "      <th>year</th>\n",
       "    </tr>\n",
       "  </thead>\n",
       "  <tbody>\n",
       "    <tr>\n",
       "      <th>0</th>\n",
       "      <td>3593</td>\n",
       "      <td>1.771876</td>\n",
       "      <td>Battlefield Earth (2000)</td>\n",
       "      <td>Action|Sci-Fi</td>\n",
       "      <td>2000</td>\n",
       "    </tr>\n",
       "    <tr>\n",
       "      <th>1</th>\n",
       "      <td>4775</td>\n",
       "      <td>1.971814</td>\n",
       "      <td>Glitter (2001)</td>\n",
       "      <td>Drama|Musical|Romance</td>\n",
       "      <td>2001</td>\n",
       "    </tr>\n",
       "    <tr>\n",
       "      <th>2</th>\n",
       "      <td>6587</td>\n",
       "      <td>1.983847</td>\n",
       "      <td>Gigli (2003)</td>\n",
       "      <td>Comedy|Crime|Romance</td>\n",
       "      <td>2003</td>\n",
       "    </tr>\n",
       "    <tr>\n",
       "      <th>3</th>\n",
       "      <td>1760</td>\n",
       "      <td>1.986099</td>\n",
       "      <td>Spice World (1997)</td>\n",
       "      <td>Comedy</td>\n",
       "      <td>1997</td>\n",
       "    </tr>\n",
       "    <tr>\n",
       "      <th>4</th>\n",
       "      <td>1556</td>\n",
       "      <td>2.017096</td>\n",
       "      <td>Speed 2: Cruise Control (1997)</td>\n",
       "      <td>Action|Romance|Thriller</td>\n",
       "      <td>1997</td>\n",
       "    </tr>\n",
       "  </tbody>\n",
       "</table>\n",
       "</div>"
      ],
      "text/plain": [
       "   movieId  user_rating                           title  \\\n",
       "0     3593     1.771876        Battlefield Earth (2000)   \n",
       "1     4775     1.971814                  Glitter (2001)   \n",
       "2     6587     1.983847                    Gigli (2003)   \n",
       "3     1760     1.986099              Spice World (1997)   \n",
       "4     1556     2.017096  Speed 2: Cruise Control (1997)   \n",
       "\n",
       "                    genres  year  \n",
       "0            Action|Sci-Fi  2000  \n",
       "1    Drama|Musical|Romance  2001  \n",
       "2     Comedy|Crime|Romance  2003  \n",
       "3                   Comedy  1997  \n",
       "4  Action|Romance|Thriller  1997  "
      ]
     },
     "execution_count": 19,
     "metadata": {},
     "output_type": "execute_result"
    }
   ],
   "source": [
    "df_result = df_result.rename(columns = {'weighted_rating':'user_rating'})\n",
    "df_result.head()"
   ]
  },
  {
   "cell_type": "markdown",
   "metadata": {},
   "source": [
    "- merging dataframes with user ratings and critics rating"
   ]
  },
  {
   "cell_type": "code",
   "execution_count": 20,
   "metadata": {
    "collapsed": false
   },
   "outputs": [
    {
     "data": {
      "text/html": [
       "<div>\n",
       "<table border=\"1\" class=\"dataframe\">\n",
       "  <thead>\n",
       "    <tr style=\"text-align: right;\">\n",
       "      <th></th>\n",
       "      <th>movieId</th>\n",
       "      <th>user_rating</th>\n",
       "      <th>title</th>\n",
       "      <th>genres</th>\n",
       "      <th>year</th>\n",
       "      <th>critics_rating</th>\n",
       "      <th>rtAllCriticsNumReviews</th>\n",
       "    </tr>\n",
       "  </thead>\n",
       "  <tbody>\n",
       "    <tr>\n",
       "      <th>1941</th>\n",
       "      <td>6987</td>\n",
       "      <td>3.705106</td>\n",
       "      <td>Cabinet of Dr. Caligari, The (Cabinet des Dr. ...</td>\n",
       "      <td>Crime|Fantasy|Horror</td>\n",
       "      <td>1920</td>\n",
       "      <td>4.45</td>\n",
       "      <td>34</td>\n",
       "    </tr>\n",
       "    <tr>\n",
       "      <th>1840</th>\n",
       "      <td>3310</td>\n",
       "      <td>3.659605</td>\n",
       "      <td>Kid, The (1921)</td>\n",
       "      <td>Comedy|Drama</td>\n",
       "      <td>1921</td>\n",
       "      <td>3.45</td>\n",
       "      <td>41</td>\n",
       "    </tr>\n",
       "    <tr>\n",
       "      <th>2121</th>\n",
       "      <td>1348</td>\n",
       "      <td>3.807852</td>\n",
       "      <td>Nosferatu (Nosferatu, eine Symphonie des Graue...</td>\n",
       "      <td>Horror</td>\n",
       "      <td>1922</td>\n",
       "      <td>4.45</td>\n",
       "      <td>47</td>\n",
       "    </tr>\n",
       "    <tr>\n",
       "      <th>1439</th>\n",
       "      <td>6986</td>\n",
       "      <td>3.481502</td>\n",
       "      <td>Ben-Hur: A Tale of the Christ (1925)</td>\n",
       "      <td>Adventure|Drama</td>\n",
       "      <td>1925</td>\n",
       "      <td>3.90</td>\n",
       "      <td>33</td>\n",
       "    </tr>\n",
       "    <tr>\n",
       "      <th>2312</th>\n",
       "      <td>3022</td>\n",
       "      <td>3.973789</td>\n",
       "      <td>General, The (1926)</td>\n",
       "      <td>Comedy|War</td>\n",
       "      <td>1926</td>\n",
       "      <td>4.45</td>\n",
       "      <td>38</td>\n",
       "    </tr>\n",
       "  </tbody>\n",
       "</table>\n",
       "</div>"
      ],
      "text/plain": [
       "      movieId  user_rating                                              title  \\\n",
       "1941     6987     3.705106  Cabinet of Dr. Caligari, The (Cabinet des Dr. ...   \n",
       "1840     3310     3.659605                                    Kid, The (1921)   \n",
       "2121     1348     3.807852  Nosferatu (Nosferatu, eine Symphonie des Graue...   \n",
       "1439     6986     3.481502               Ben-Hur: A Tale of the Christ (1925)   \n",
       "2312     3022     3.973789                                General, The (1926)   \n",
       "\n",
       "                    genres  year  critics_rating  rtAllCriticsNumReviews  \n",
       "1941  Crime|Fantasy|Horror  1920            4.45                      34  \n",
       "1840          Comedy|Drama  1921            3.45                      41  \n",
       "2121                Horror  1922            4.45                      47  \n",
       "1439       Adventure|Drama  1925            3.90                      33  \n",
       "2312            Comedy|War  1926            4.45                      38  "
      ]
     },
     "execution_count": 20,
     "metadata": {},
     "output_type": "execute_result"
    }
   ],
   "source": [
    "df_output = pd.merge(df_result, df_x, on='movieId' )\n",
    "df_output = df_output.sort_values(by='year')\n",
    "df_output = df_output.rename(columns = {'rtAllCriticsRating':'critics_rating'})\n",
    "df_output.head()"
   ]
  },
  {
   "cell_type": "code",
   "execution_count": 21,
   "metadata": {
    "collapsed": false
   },
   "outputs": [],
   "source": [
    "#df_output.tail()"
   ]
  },
  {
   "cell_type": "code",
   "execution_count": 23,
   "metadata": {
    "collapsed": false
   },
   "outputs": [],
   "source": [
    "#df_output.to_csv(output_path + '\\\\Analysis_1_Output.csv', index = False)\n",
    "df_output.to_csv(input_path + '\\\\User_Rating.csv', index = False)"
   ]
  },
  {
   "cell_type": "code",
   "execution_count": 24,
   "metadata": {
    "collapsed": false
   },
   "outputs": [
    {
     "data": {
      "image/png": "[encoded data removed]",
      "text/plain": [
       "<matplotlib.figure.Figure at 0x170002886d8>"
      ]
     },
     "metadata": {},
     "output_type": "display_data"
    }
   ],
   "source": [
    "matplotlib.style.use('ggplot')\n",
    "#plt.figure(figsize= (8,8))\n",
    "ax =df_output.plot(x='year', y=['user_rating','critics_rating'] , figsize=(10,6), title='Variation in ratings ')\n",
    "ax.set_xlabel('Year')\n",
    "ax.set_ylabel('Ratings')\n",
    "plt.savefig(output_path + '\\\\ratings_variation.jpeg')"
   ]
  },
  {
   "cell_type": "code",
   "execution_count": 25,
   "metadata": {
    "collapsed": false
   },
   "outputs": [
    {
     "name": "stderr",
     "output_type": "stream",
     "text": [
      "C:\\Users\\jaina\\Anaconda3\\lib\\site-packages\\ipykernel\\__main__.py:2: SettingWithCopyWarning: \n",
      "A value is trying to be set on a copy of a slice from a DataFrame.\n",
      "Try using .loc[row_indexer,col_indexer] = value instead\n",
      "\n",
      "See the caveats in the documentation: http://pandas.pydata.org/pandas-docs/stable/indexing.html#indexing-view-versus-copy\n",
      "  from ipykernel import kernelapp as app\n"
     ]
    },
    {
     "data": {
      "text/html": [
       "<div>\n",
       "<table border=\"1\" class=\"dataframe\">\n",
       "  <thead>\n",
       "    <tr style=\"text-align: right;\">\n",
       "      <th></th>\n",
       "      <th>movieId</th>\n",
       "      <th>title</th>\n",
       "      <th>user_rating</th>\n",
       "      <th>critics_rating</th>\n",
       "    </tr>\n",
       "  </thead>\n",
       "  <tbody>\n",
       "    <tr>\n",
       "      <th>1941</th>\n",
       "      <td>6987</td>\n",
       "      <td>Cabinet of Dr. Caligari, The (Cabinet des Dr. ...</td>\n",
       "      <td>3.705106</td>\n",
       "      <td>4.45</td>\n",
       "    </tr>\n",
       "    <tr>\n",
       "      <th>1840</th>\n",
       "      <td>3310</td>\n",
       "      <td>Kid, The</td>\n",
       "      <td>3.659605</td>\n",
       "      <td>3.45</td>\n",
       "    </tr>\n",
       "    <tr>\n",
       "      <th>2121</th>\n",
       "      <td>1348</td>\n",
       "      <td>Nosferatu (Nosferatu, eine Symphonie des Graue...</td>\n",
       "      <td>3.807852</td>\n",
       "      <td>4.45</td>\n",
       "    </tr>\n",
       "    <tr>\n",
       "      <th>1439</th>\n",
       "      <td>6986</td>\n",
       "      <td>Ben-Hur: A Tale of the Christ</td>\n",
       "      <td>3.481502</td>\n",
       "      <td>3.90</td>\n",
       "    </tr>\n",
       "    <tr>\n",
       "      <th>2312</th>\n",
       "      <td>3022</td>\n",
       "      <td>General, The</td>\n",
       "      <td>3.973789</td>\n",
       "      <td>4.45</td>\n",
       "    </tr>\n",
       "  </tbody>\n",
       "</table>\n",
       "</div>"
      ],
      "text/plain": [
       "      movieId                                              title  user_rating  \\\n",
       "1941     6987  Cabinet of Dr. Caligari, The (Cabinet des Dr. ...     3.705106   \n",
       "1840     3310                                          Kid, The      3.659605   \n",
       "2121     1348  Nosferatu (Nosferatu, eine Symphonie des Graue...     3.807852   \n",
       "1439     6986                     Ben-Hur: A Tale of the Christ      3.481502   \n",
       "2312     3022                                      General, The      3.973789   \n",
       "\n",
       "      critics_rating  \n",
       "1941            4.45  \n",
       "1840            3.45  \n",
       "2121            4.45  \n",
       "1439            3.90  \n",
       "2312            4.45  "
      ]
     },
     "execution_count": 25,
     "metadata": {},
     "output_type": "execute_result"
    }
   ],
   "source": [
    "df_output1 = df_output[['movieId','title','user_rating','critics_rating']]\n",
    "df_output1['title'] = df_output.title.apply(lambda x : x[:-6])\n",
    "df_output1.head()"
   ]
  },
  {
   "cell_type": "code",
   "execution_count": 26,
   "metadata": {
    "collapsed": false
   },
   "outputs": [
    {
     "name": "stderr",
     "output_type": "stream",
     "text": [
      "C:\\Users\\jaina\\Anaconda3\\lib\\site-packages\\ipykernel\\__main__.py:1: SettingWithCopyWarning: \n",
      "A value is trying to be set on a copy of a slice from a DataFrame.\n",
      "Try using .loc[row_indexer,col_indexer] = value instead\n",
      "\n",
      "See the caveats in the documentation: http://pandas.pydata.org/pandas-docs/stable/indexing.html#indexing-view-versus-copy\n",
      "  if __name__ == '__main__':\n"
     ]
    },
    {
     "data": {
      "text/html": [
       "<div>\n",
       "<table border=\"1\" class=\"dataframe\">\n",
       "  <thead>\n",
       "    <tr style=\"text-align: right;\">\n",
       "      <th></th>\n",
       "      <th>movieId</th>\n",
       "      <th>title</th>\n",
       "      <th>user_rating</th>\n",
       "      <th>critics_rating</th>\n",
       "      <th>difference</th>\n",
       "    </tr>\n",
       "  </thead>\n",
       "  <tbody>\n",
       "    <tr>\n",
       "      <th>1941</th>\n",
       "      <td>6987</td>\n",
       "      <td>Cabinet of Dr. Caligari, The (Cabinet des Dr. ...</td>\n",
       "      <td>3.705106</td>\n",
       "      <td>4.45</td>\n",
       "      <td>0.744894</td>\n",
       "    </tr>\n",
       "    <tr>\n",
       "      <th>1840</th>\n",
       "      <td>3310</td>\n",
       "      <td>Kid, The</td>\n",
       "      <td>3.659605</td>\n",
       "      <td>3.45</td>\n",
       "      <td>-0.209605</td>\n",
       "    </tr>\n",
       "    <tr>\n",
       "      <th>2121</th>\n",
       "      <td>1348</td>\n",
       "      <td>Nosferatu (Nosferatu, eine Symphonie des Graue...</td>\n",
       "      <td>3.807852</td>\n",
       "      <td>4.45</td>\n",
       "      <td>0.642148</td>\n",
       "    </tr>\n",
       "    <tr>\n",
       "      <th>1439</th>\n",
       "      <td>6986</td>\n",
       "      <td>Ben-Hur: A Tale of the Christ</td>\n",
       "      <td>3.481502</td>\n",
       "      <td>3.90</td>\n",
       "      <td>0.418498</td>\n",
       "    </tr>\n",
       "    <tr>\n",
       "      <th>2312</th>\n",
       "      <td>3022</td>\n",
       "      <td>General, The</td>\n",
       "      <td>3.973789</td>\n",
       "      <td>4.45</td>\n",
       "      <td>0.476211</td>\n",
       "    </tr>\n",
       "  </tbody>\n",
       "</table>\n",
       "</div>"
      ],
      "text/plain": [
       "      movieId                                              title  user_rating  \\\n",
       "1941     6987  Cabinet of Dr. Caligari, The (Cabinet des Dr. ...     3.705106   \n",
       "1840     3310                                          Kid, The      3.659605   \n",
       "2121     1348  Nosferatu (Nosferatu, eine Symphonie des Graue...     3.807852   \n",
       "1439     6986                     Ben-Hur: A Tale of the Christ      3.481502   \n",
       "2312     3022                                      General, The      3.973789   \n",
       "\n",
       "      critics_rating  difference  \n",
       "1941            4.45    0.744894  \n",
       "1840            3.45   -0.209605  \n",
       "2121            4.45    0.642148  \n",
       "1439            3.90    0.418498  \n",
       "2312            4.45    0.476211  "
      ]
     },
     "execution_count": 26,
     "metadata": {},
     "output_type": "execute_result"
    }
   ],
   "source": [
    "df_output1['difference'] = df_output1['critics_rating'] - df_output1['user_rating']\n",
    "df_output1.head()"
   ]
  },
  {
   "cell_type": "code",
   "execution_count": 27,
   "metadata": {
    "collapsed": false
   },
   "outputs": [
    {
     "name": "stderr",
     "output_type": "stream",
     "text": [
      "C:\\Users\\jaina\\Anaconda3\\lib\\site-packages\\ipykernel\\__main__.py:1: SettingWithCopyWarning: \n",
      "A value is trying to be set on a copy of a slice from a DataFrame.\n",
      "Try using .loc[row_indexer,col_indexer] = value instead\n",
      "\n",
      "See the caveats in the documentation: http://pandas.pydata.org/pandas-docs/stable/indexing.html#indexing-view-versus-copy\n",
      "  if __name__ == '__main__':\n"
     ]
    }
   ],
   "source": [
    "df_output1['difference'] = df_output1.difference.apply(lambda x : x if x > 0 else (x*-1))  # extract year of movie from title\n",
    "df_output1 = df_output1.sort_values(by='difference' , ascending= False)"
   ]
  },
  {
   "cell_type": "markdown",
   "metadata": {},
   "source": [
    "- movies that were highly divisive"
   ]
  },
  {
   "cell_type": "code",
   "execution_count": 28,
   "metadata": {
    "collapsed": false
   },
   "outputs": [
    {
     "data": {
      "text/html": [
       "<div>\n",
       "<table border=\"1\" class=\"dataframe\">\n",
       "  <thead>\n",
       "    <tr style=\"text-align: right;\">\n",
       "      <th></th>\n",
       "      <th>movieId</th>\n",
       "      <th>title</th>\n",
       "      <th>user_rating</th>\n",
       "      <th>critics_rating</th>\n",
       "      <th>difference</th>\n",
       "    </tr>\n",
       "  </thead>\n",
       "  <tbody>\n",
       "    <tr>\n",
       "      <th>1328</th>\n",
       "      <td>6978</td>\n",
       "      <td>Slacker</td>\n",
       "      <td>3.436563</td>\n",
       "      <td>1.55</td>\n",
       "      <td>1.886563</td>\n",
       "    </tr>\n",
       "    <tr>\n",
       "      <th>96</th>\n",
       "      <td>1388</td>\n",
       "      <td>Jaws 2</td>\n",
       "      <td>2.638892</td>\n",
       "      <td>4.40</td>\n",
       "      <td>1.761108</td>\n",
       "    </tr>\n",
       "    <tr>\n",
       "      <th>664</th>\n",
       "      <td>2769</td>\n",
       "      <td>Yards, The</td>\n",
       "      <td>3.131329</td>\n",
       "      <td>1.40</td>\n",
       "      <td>1.731329</td>\n",
       "    </tr>\n",
       "    <tr>\n",
       "      <th>485</th>\n",
       "      <td>53207</td>\n",
       "      <td>88 Minutes</td>\n",
       "      <td>3.023138</td>\n",
       "      <td>1.30</td>\n",
       "      <td>1.723138</td>\n",
       "    </tr>\n",
       "    <tr>\n",
       "      <th>1848</th>\n",
       "      <td>927</td>\n",
       "      <td>Women, The</td>\n",
       "      <td>3.661304</td>\n",
       "      <td>1.95</td>\n",
       "      <td>1.711304</td>\n",
       "    </tr>\n",
       "  </tbody>\n",
       "</table>\n",
       "</div>"
      ],
      "text/plain": [
       "      movieId        title  user_rating  critics_rating  difference\n",
       "1328     6978     Slacker      3.436563            1.55    1.886563\n",
       "96       1388      Jaws 2      2.638892            4.40    1.761108\n",
       "664      2769  Yards, The      3.131329            1.40    1.731329\n",
       "485     53207  88 Minutes      3.023138            1.30    1.723138\n",
       "1848      927  Women, The      3.661304            1.95    1.711304"
      ]
     },
     "execution_count": 28,
     "metadata": {},
     "output_type": "execute_result"
    }
   ],
   "source": [
    "divisive_movies = df_output1.head()\n",
    "divisive_movies"
   ]
  },
  {
   "cell_type": "code",
   "execution_count": 32,
   "metadata": {
    "collapsed": false
   },
   "outputs": [
    {
     "data": {
      "image/png": "[encoded data removed]",
      "text/plain": [
       "<matplotlib.figure.Figure at 0x170007db0b8>"
      ]
     },
     "metadata": {},
     "output_type": "display_data"
    }
   ],
   "source": [
    "ax = divisive_movies.plot.bar(x='title', y=['user_rating', 'critics_rating'],title='Highly divisive movies')\n",
    "ax.set_xlabel('Movies')\n",
    "ax.set_ylabel('Ratings')\n",
    "plt.savefig(output_path + '\\\\divisive_movies.jpeg')"
   ]
  },
  {
   "cell_type": "markdown",
   "metadata": {},
   "source": [
    "- movies that maintained balance between user and critics."
   ]
  },
  {
   "cell_type": "code",
   "execution_count": 30,
   "metadata": {
    "collapsed": false
   },
   "outputs": [],
   "source": [
    "balanced_movies  = df_output1.tail()"
   ]
  },
  {
   "cell_type": "code",
   "execution_count": 34,
   "metadata": {
    "collapsed": false
   },
   "outputs": [
    {
     "data": {
      "image/png": "[encoded data removed]",
      "text/plain": [
       "<matplotlib.figure.Figure at 0x17000addcc0>"
      ]
     },
     "metadata": {},
     "output_type": "display_data"
    }
   ],
   "source": [
    "ax1 = balanced_movies.plot.bar(x='title', y=['user_rating', 'critics_rating'] , title = 'Movies appreciated by users and critics')\n",
    "ax1.set_xlabel('Movies')\n",
    "ax1.set_ylabel('Ratings')\n",
    "plt.savefig(output_path + '\\\\balanced_movies.jpeg')"
   ]
  }
 ],
 "metadata": {
  "anaconda-cloud": {},
  "kernelspec": {
   "display_name": "Python [conda root]",
   "language": "python",
   "name": "conda-root-py"
  },
  "language_info": {
   "codemirror_mode": {
    "name": "ipython",
    "version": 3
   },
   "file_extension": ".py",
   "mimetype": "text/x-python",
   "name": "python",
   "nbconvert_exporter": "python",
   "pygments_lexer": "ipython3",
   "version": "3.5.2"
  }
 },
 "nbformat": 4,
 "nbformat_minor": 2
}
